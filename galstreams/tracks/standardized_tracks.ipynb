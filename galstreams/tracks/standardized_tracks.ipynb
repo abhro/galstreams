{
 "cells": [
  {
   "cell_type": "code",
   "execution_count": 2,
   "metadata": {},
   "outputs": [
    {
     "name": "stdout",
     "output_type": "stream",
     "text": [
      "Populating the interactive namespace from numpy and matplotlib\n"
     ]
    }
   ],
   "source": [
    "import numpy as np\n",
    "import astropy\n",
    "import astropy.coordinates as ac\n",
    "import astropy.units as u\n",
    "import astropy.io\n",
    "import astropy.table\n",
    "import scipy\n",
    "import pandas as pd\n",
    "import galstreams\n",
    "import gcutils\n",
    "import gala\n",
    "import gala.coordinates as gc\n",
    "%pylab inline"
   ]
  },
  {
   "cell_type": "code",
   "execution_count": 162,
   "metadata": {},
   "outputs": [],
   "source": [
    "def mean_of_skycoords(coo):\n",
    "    \"\"\"\n",
    "    Compute vector mean of SkyCoord inputs. Returns SkyCoord object\n",
    "    \"\"\"\n",
    "    sum_coo = ac.SkyCoord(x=np.sum(coo.cartesian.x),\n",
    "                          y=np.sum(coo.cartesian.y),\n",
    "                          z=np.sum(coo.cartesian.z),\n",
    "                          frame=ac.ICRS, representation_type='cartesian')\n",
    "    #Surely there's a more elegant way of doing this. No patience right now. This is pretty clearly right.\n",
    "    sum_coo = ac.SkyCoord(ra=sum_coo.spherical.lon, dec=sum_coo.spherical.lat)\n",
    "    #sum_coo = sum_coo.unitspherical ?\n",
    "    \n",
    "    return sum_coo\n",
    "\n",
    "def get_track_from_points(sc, N=200, deg=3):\n",
    "    \"\"\" Estimate the mean track from a set of stream stars or points \n",
    "\n",
    "        Parameters\n",
    "        ----------\n",
    "        sc : `astropy.coordinates.SkyCoord` instance \n",
    "\n",
    "    \"\"\"\n",
    "    \n",
    "    \n",
    "    #find mean\n",
    "    center=mean_of_skycoords(sc)\n",
    "    #to get the extremes I should wrap the angles at the center and then get min/max. this is general\n",
    "    aux = ac.SkyCoord(ra=sc[[5,-5]].ra.value,dec=sc[[5,-5]].dec.value,unit=u.deg)\n",
    "    \n",
    "    \n",
    "    pole = gc.greatcircle.pole_from_endpoints(aux[0],aux[1])\n",
    "    fr = gc.GreatCircleICRSFrame(pole=pole,ra0=center.ra)\n",
    "    scp = sc.transform_to(fr)\n",
    "\n",
    "    \n",
    "    phi1s = np.linspace(np.min(scp.phi1),np.max(scp.phi1),N)\n",
    "    phi2fit = np.poly1d(np.polyfit(scp.phi1.deg,scp.phi2.deg, deg=deg))\n",
    "\n",
    "    phi1_end_points = phi1s[[0,-1]]\n",
    "    \n",
    "    track_mid_point = ac.SkyCoord(phi1=0.*u.deg, phi2=phi2fit(0.)*u.deg,frame=fr)\n",
    "    \n",
    "    #Initial track object\n",
    "    track = ac.SkyCoord(phi1=phi1s, phi2=phi2fit(phi1s.value)*u.deg, frame=fr)\n",
    "\n",
    "    #Recompute the track using two points in the track, close to the center, at both sides (this ensures mid point is at phi2=0)\n",
    "    two_points_near_mid = ac.SkyCoord(phi1=[-0.5,0.5]*u.deg, phi2=phi2fit([-0.5,0.5])*u.deg, frame=fr)\n",
    "    aux=ac.SkyCoord(ra=two_points_near_mid.transform_to(ac.ICRS).ra.value, dec=two_points_near_mid.transform_to(ac.ICRS).dec.value, unit=u.deg)\n",
    "    #aux=two_points_near_mid.icrs\n",
    "    new_pole = gc.greatcircle.pole_from_endpoints(aux[0],aux[1])\n",
    "    \n",
    "    #New stream's frame -------------------------------------------------------------------\n",
    "    new_fr = gc.GreatCircleICRSFrame(pole=new_pole, ra0=track_mid_point.transform_to(ac.ICRS).ra)\n",
    "    scp = sc.transform_to(new_fr)\n",
    "\n",
    "    phi1s = np.linspace(np.min(scp.phi1),np.max(scp.phi1),N)\n",
    "    phi1_end_points = phi1s[[0,-1]]\n",
    "    \n",
    "    #Set up polynomial fit with explicit frame so it can take a SkyCoord object in any frame and do it's magic\n",
    "    phi2_fit = np.poly1d(np.polyfit(scp.phi1.deg,scp.phi2.value, deg=deg))\n",
    "    phi2_track = phi2_fit(phi1s.deg)*scp.phi2.unit\n",
    "    phi2_end = phi2_track[[0,-1]]\n",
    "    mean_phi1 = np.mean(phi1_end_points)\n",
    "    phi2_mid = phi2_fit([mean_phi1.value,])*scp.phi2.unit\n",
    "    \n",
    "    #In general phi1=0 in the initiall guess frame is no necesarily contained between the end points\n",
    "    \n",
    "    mid_dict = dict(frame=new_fr, phi1=mean_phi1, phi2=phi2_mid)\n",
    "    end_dict = dict(frame=new_fr, phi1= phi1_end_points, phi2=phi2_end)\n",
    "    track_dict = dict(frame=new_fr, phi1 = phi1s, phi2 = phi2_track)\n",
    "    fits = dict(phi2=phi2_fit)\n",
    "    \n",
    "    for att in [\"distance\", \"pm_phi1_cosphi2\", \"pm_phi2\",  \"radial_velocity\"]:\n",
    "        if att==\"distance\" or 's' in scp.data.differentials:  #i.e. if obj contains velocity data\n",
    "            att_fit = np.poly1d(np.polyfit(scp.phi1.deg, getattr(scp,att).value, deg=deg))  #polynomial fit obj\n",
    "            track_dict[att] = att_fit(phi1s.deg)*getattr(scp,att).unit   #eval track-fit to get track for current attr\n",
    "            mid_dict[att] = att_fit([mean_phi1.value,])*getattr(scp,att).unit\n",
    "            end_dict[att] = att_fit(phi1_end_points.deg)*getattr(scp,att).unit\n",
    "        else:\n",
    "            fits[att] = None\n",
    "            track_dict[att] = None\n",
    "            mid_dict[att] = None\n",
    "            end_dict[att] = None\n",
    "\n",
    "    newtrack = ac.SkyCoord(**track_dict)       \n",
    "    track_end_points = ac.SkyCoord(**end_dict)\n",
    "    track_mid_point = ac.SkyCoord(**mid_dict)\n",
    " \n",
    "    #Store width track\n",
    "    track_width = np.std(scp.phi2)*np.ones(newtrack.phi2.size)  #TODO: turn this into rolling std\n",
    "    \n",
    "    #Re-store so that new_pole is iterable. Saves me trouble later\n",
    "    new_pole = ac.SkyCoord(ra=np.array([new_pole.ra.deg,]), dec=np.array([new_pole.dec.deg,]), unit=u.deg)\n",
    "\n",
    "    return (newtrack.transform_to(ac.ICRS), track_width, track_end_points.transform_to(ac.ICRS), track_mid_point.transform_to(ac.ICRS), \n",
    "            new_pole.transform_to(ac.ICRS), new_fr, fits)\n"
   ]
  },
  {
   "cell_type": "code",
   "execution_count": 90,
   "metadata": {},
   "outputs": [],
   "source": [
    "def save_track_ecsv(outfilen,track):\n",
    "    \n",
    "    #Save track\n",
    "    names = track.get_representation_component_names()\n",
    "    names.update(track.get_representation_component_names('s'))\n",
    "    t = astropy.table.QTable( {k: getattr(track, k) for k in names})\n",
    "    astropy.io.ascii.write(t, format='ecsv', delimiter=',', output=outfilen, overwrite=True, fast_writer=False)   \n",
    "\n",
    "\n",
    "def save_summary_ecsv(outfilen, track_end_points, track_mid_point, mid_pole, StreamName=\"0\", StreamShortName=\"0\"):\n",
    "    \n",
    "    #Save track summary - one line per stream. Yes, I prefer this. That way each stream's summary can be independently updated. \n",
    "    #ofilesn = f\"{ofileroot}.summary.ecsv\"\n",
    "    names = track_end_points.get_representation_component_names()\n",
    "    names.update(track_end_points.get_representation_component_names('s'))\n",
    "    \n",
    "    #Make sure inputs are iterable\n",
    "#     mp, po = {}, {}\n",
    "#     for k in names:\n",
    "#         mp[k] = np.array([getattr(track_mid_point, k).value,])*getattr(track_mid_point, k).unit\n",
    "#         po[k] = np.array([getattr(mid_pole, k).value,])*getattr(mid_pole, k).unit\n",
    "#     mpc = ac.SkyCoord(**mp)    \n",
    "#     poc = ac.SkyCoord(**po) \n",
    "    \n",
    "    tr_summary = dict(StreamName=np.array([StreamName,]), StreamShortName=np.array([StreamShortName,]))\n",
    "    lnames = [ \"end_o.\"+k for k in names]\n",
    "    tr_summary.update({l: getattr(track_end_points[:1], k) for k,l in zip(names,lnames)})\n",
    "    lnames = [ \"end_f.\"+k for k in names]\n",
    "    tr_summary.update({l: getattr(track_end_points[1:], k) for k,l in zip(names,lnames)})\n",
    "    lnames = [ \"mid.\"+k for k in names]\n",
    "    tr_summary.update({l: getattr(track_mid_point[:1], k) for k,l in zip(names,lnames)})\n",
    "    rnames = mid_pole.get_representation_component_names()\n",
    "    lnames = [ \"pole.\"+k for k in rnames]\n",
    "    tr_summary.update({l: getattr(mid_pole[:1], k) for k,l in zip(rnames,lnames)})\n",
    "    #print track summary\n",
    "    t = astropy.table.QTable(tr_summary)\n",
    "    astropy.io.ascii.write(t, format='ecsv', delimiter=',', output=outfilen, overwrite=True, fast_writer=False)   \n",
    "    "
   ]
  },
  {
   "cell_type": "code",
   "execution_count": 59,
   "metadata": {},
   "outputs": [],
   "source": [
    "def stream_plot(stream_sc, track, track_end_points, track_mid_point, stream_fr, saveplot=False, clf=False, StreamName=None, plotfilen='salida.png', plot_obs=True):\n",
    "    \n",
    "    pkwds=dict(marker='.',ls='', alpha=0.5)\n",
    "    tkwds=dict(marker='',ls='-', lw=2, color='orange')\n",
    "    mkw=dict(marker='D',ls='', color='k')\n",
    "    ekw=dict(marker='o',ls='', color='k')\n",
    "\n",
    "    nx, ny = 2, 5\n",
    "    fig=plt.figure(1,figsize=(10,10))\n",
    "    axs = fig.subplots(ny,nx, sharex=\"col\")\n",
    "\n",
    "    if plot_obs: stream_plot_card(stream_sc, stream_fr, axs, plotkwds=pkwds )\n",
    "    stream_plot_card(track, stream_fr, axs, plotkwds=tkwds)\n",
    "    stream_plot_card(track_end_points, stream_fr, axs, plotkwds=ekw)\n",
    "    stream_plot_card(track_mid_point, stream_fr, axs, plotkwds=mkw, show_labels=True)\n",
    "    \n",
    "    if StreamName: fig.suptitle(\"Stream: \"+StreamName) \n",
    "\n",
    "    fig.tight_layout(rect=[0,0,1,0.97])\n",
    "\n",
    "    if saveplot: fig.savefig(plotfilen)\n",
    "    if clf:     fig.clf()\n"
   ]
  },
  {
   "cell_type": "code",
   "execution_count": 11,
   "metadata": {},
   "outputs": [],
   "source": [
    "def stream_plot_card(sc, stream_fr, axs, plotkwds={}, show_labels=False, show_grid=False):\n",
    "\n",
    "    \n",
    "\n",
    "    labels1=dict(phi2=\"$\\phi_2$ ($\\degree$)\", distance=\"$D$ (kpc)\", \n",
    "                 pm_phi1_cosphi2=\"$\\mu\\phi1$ (arcsec/yr)\", pm_phi2=\"$\\mu\\phi2$ (arcsec/yr)\",\n",
    "                 radial_velocity=\"$v_r$ (km/s)\")\n",
    "    labels2=dict(ra=\"$\\\\alpha$ ($\\degree$)\",dec=\"$\\delta$ ($\\degree$)\", distance=\"$D$ (kpc)\", \n",
    "                 pm_ra_cosdec=\"$\\mu\\\\alpha$ (arcsec/yr)\", pm_dec=\"$\\mu\\delta$ (arcsec/yr)\",\n",
    "                 radial_velocity=\"$v_r$ (km/s)\")\n",
    "    \n",
    "    #Plots in stream frame coords    \n",
    "    r,c=0,0    \n",
    "    for att in [\"phi2\",\"distance\", \"pm_phi1_cosphi2\", \"pm_phi2\",  \"radial_velocity\"]:\n",
    "        try:\n",
    "            if att==\"distance\" or 's' in sc.data.differentials:  #i.e. if obj contains velocity data\n",
    "                axs[r,c].plot(sc.transform_to(stream_fr).phi1, getattr(sc.transform_to(stream_fr),att), **plotkwds)\n",
    "                if (np.abs(getattr(sc.transform_to(stream_fr),att).value)>1e-10).sum()==0 :\n",
    "                    axs[r,0].set_ylim(-10,10)\n",
    "        except TypeError or ValueError: print(\"No kinematic data...\")        \n",
    "        if show_grid: axs[r,c].grid()\n",
    "        if show_labels:\n",
    "            if axs[r,c].is_last_row(): axs[r,c].set_xlabel(\"$\\phi_1$ ($\\degree$)\")\n",
    "            axs[r,c].set_ylabel(labels1[att])\n",
    "        r=r+1\n",
    "\n",
    "    #Plots in equatorial coords\n",
    "    r,c=0,1  \n",
    "    for att in [\"dec\",\"distance\", \"pm_ra_cosdec\", \"pm_dec\",  \"radial_velocity\"]:\n",
    "        try:\n",
    "            #if hasattr(sc.icrs, att): \n",
    "            if att==\"distance\" or 's' in sc.data.differentials:  #i.e. if obj contains velocity data\n",
    "                axs[r,c].plot(sc.icrs.ra.wrap_at, getattr(sc.icrs,att), **plotkwds)\n",
    "                if (np.abs(getattr(sc.icrs,att).value)>1e-10).sum()==0 :\n",
    "                    #axs[r,0].set_ylim(-10,10)\n",
    "                    axs[r,1].set_ylim(-10,10)       \n",
    "        except TypeError or ValueError: print(\"No kinematic data...\")                        \n",
    "        if show_grid: axs[r,c].grid()\n",
    "        if show_labels:\n",
    "            if axs[r,c].is_last_row(): axs[r,c].set_xlabel(\"$\\\\alpha$ ($\\degree$)\")\n",
    "            axs[r,c].set_ylabel(labels2[att])\n",
    "            \n",
    "        r=r+1\n",
    "    \n",
    "    #return f, axs"
   ]
  },
  {
   "cell_type": "markdown",
   "metadata": {},
   "source": [
    "Tracks init by end points\n",
    "=========================="
   ]
  },
  {
   "cell_type": "code",
   "execution_count": 143,
   "metadata": {},
   "outputs": [
    {
     "data": {
      "text/html": [
       "<i>Table length=27</i>\n",
       "<table id=\"table140259875848376\" class=\"table-striped table-bordered table-condensed\">\n",
       "<thead><tr><th>Name</th><th>ShortName</th><th>lono</th><th>lato</th><th>lonf</th><th>latf</th><th>frame</th><th>Ro</th><th>Rf</th><th>Width</th><th>Reference</th></tr></thead>\n",
       "<thead><tr><th>str11</th><th>str5</th><th>float64</th><th>float64</th><th>float64</th><th>float64</th><th>str3</th><th>float64</th><th>float64</th><th>float64</th><th>str26</th></tr></thead>\n",
       "<tr><td>Phoenix</td><td>Phe</td><td>20.0</td><td>-57.0</td><td>27.0</td><td>-45.0</td><td>equ</td><td>17.5</td><td>17.5</td><td>0.18</td><td>Balbinot2016</td></tr>\n",
       "<tr><td>Acheron</td><td>Ach</td><td>230.0</td><td>-2.0</td><td>259.0</td><td>21.0</td><td>equ</td><td>3.5</td><td>3.8</td><td>0.9</td><td>Grillmair2009</td></tr>\n",
       "<tr><td>Cocytos</td><td>Coc</td><td>186.0</td><td>-3.0</td><td>259.0</td><td>20.0</td><td>equ</td><td>11.0</td><td>11.0</td><td>0.7</td><td>Grillmair2009</td></tr>\n",
       "<tr><td>Lethe</td><td>Let</td><td>171.0</td><td>18.0</td><td>258.0</td><td>20.0</td><td>equ</td><td>13.0</td><td>13.0</td><td>0.4</td><td>Grillmair2009</td></tr>\n",
       "<tr><td>Styx</td><td>Sty</td><td>194.0</td><td>20.0</td><td>259.0</td><td>21.0</td><td>equ</td><td>45.0</td><td>45.0</td><td>3.3</td><td>Grillmair2009</td></tr>\n",
       "<tr><td>ACS</td><td>ACS</td><td>126.4</td><td>-0.7</td><td>133.9</td><td>64.2</td><td>equ</td><td>8.9</td><td>8.9</td><td>5.0</td><td>Grillmair2006</td></tr>\n",
       "<tr><td>Pal15</td><td>Pal15</td><td>254.8</td><td>-0.12</td><td>255.3</td><td>-1.47</td><td>equ</td><td>38.4</td><td>38.4</td><td>0.0</td><td>Myeong2017</td></tr>\n",
       "<tr><td>Eridanus</td><td>Eri</td><td>65.98</td><td>-21.42</td><td>66.4</td><td>-20.96</td><td>equ</td><td>95.0</td><td>95.0</td><td>0.0</td><td>Myeong2017</td></tr>\n",
       "<tr><td>TucanaIII</td><td>Tuc3</td><td>-6.3</td><td>-59.7</td><td>3.2</td><td>-59.4</td><td>equ</td><td>23.0</td><td>27.0</td><td>0.18</td><td>Shipp2018,DrlicaWagner2015</td></tr>\n",
       "<tr><td>Indus</td><td>Ind</td><td>-36.3</td><td>-50.7</td><td>-8.0</td><td>-64.8</td><td>equ</td><td>16.6</td><td>16.6</td><td>0.83</td><td>Shipp2018</td></tr>\n",
       "<tr><td>...</td><td>...</td><td>...</td><td>...</td><td>...</td><td>...</td><td>...</td><td>...</td><td>...</td><td>...</td><td>...</td></tr>\n",
       "<tr><td>Turranburra</td><td>Tur</td><td>59.3</td><td>-18.0</td><td>75.2</td><td>-26.4</td><td>equ</td><td>27.5</td><td>27.5</td><td>0.6</td><td>Shipp2018</td></tr>\n",
       "<tr><td>Wambelong</td><td>Wam</td><td>90.5</td><td>-45.6</td><td>79.3</td><td>-34.3</td><td>equ</td><td>15.1</td><td>15.1</td><td>0.4</td><td>Shipp2018</td></tr>\n",
       "<tr><td>Palca</td><td>Pca</td><td>30.3</td><td>-53.7</td><td>16.2</td><td>2.4</td><td>equ</td><td>36.3</td><td>36.3</td><td>0.0</td><td>Shipp2018</td></tr>\n",
       "<tr><td>Jet</td><td>Jet</td><td>133.75</td><td>-27.7</td><td>142.0</td><td>-17.82</td><td>equ</td><td>28.6</td><td>28.6</td><td>0.18</td><td>Jethwa2017</td></tr>\n",
       "<tr><td>Gaia-1</td><td>Gaia1</td><td>184.0</td><td>-18.0</td><td>197.0</td><td>-2.0</td><td>equ</td><td>5.0</td><td>6.0</td><td>0.5</td><td>Malhan2018</td></tr>\n",
       "<tr><td>Gaia-2</td><td>Gaia2</td><td>6.0</td><td>-22.0</td><td>15.0</td><td>-27.0</td><td>equ</td><td>10.0</td><td>13.0</td><td>0.0</td><td>Malhan2018</td></tr>\n",
       "<tr><td>Gaia-3</td><td>Gaia3</td><td>171.0</td><td>-15.0</td><td>179.0</td><td>-32.0</td><td>equ</td><td>9.0</td><td>14.0</td><td>0.0</td><td>Malhan2018</td></tr>\n",
       "<tr><td>Gaia-4</td><td>Gaia4</td><td>163.0</td><td>-11.0</td><td>167.0</td><td>-3.0</td><td>equ</td><td>10.7</td><td>11.5</td><td>0.0</td><td>Malhan2018</td></tr>\n",
       "<tr><td>Gaia-5</td><td>Gaia5</td><td>137.0</td><td>23.0</td><td>154.0</td><td>42.0</td><td>equ</td><td>18.5</td><td>20.5</td><td>0.0</td><td>Malhan2018</td></tr>\n",
       "<tr><td>Pal13</td><td>Pal13</td><td>-15.7</td><td>8.9</td><td>-9.8</td><td>18.2</td><td>equ</td><td>23.6</td><td>23.6</td><td>0.25</td><td>Shipp2020</td></tr>\n",
       "</table>"
      ],
      "text/plain": [
       "<Table length=27>\n",
       "    Name    ShortName   lono  ...    Rf    Width          Reference         \n",
       "   str11       str5   float64 ... float64 float64           str26           \n",
       "----------- --------- ------- ... ------- ------- --------------------------\n",
       "    Phoenix       Phe    20.0 ...    17.5    0.18               Balbinot2016\n",
       "    Acheron       Ach   230.0 ...     3.8     0.9              Grillmair2009\n",
       "    Cocytos       Coc   186.0 ...    11.0     0.7              Grillmair2009\n",
       "      Lethe       Let   171.0 ...    13.0     0.4              Grillmair2009\n",
       "       Styx       Sty   194.0 ...    45.0     3.3              Grillmair2009\n",
       "        ACS       ACS   126.4 ...     8.9     5.0              Grillmair2006\n",
       "      Pal15     Pal15   254.8 ...    38.4     0.0                 Myeong2017\n",
       "   Eridanus       Eri   65.98 ...    95.0     0.0                 Myeong2017\n",
       "  TucanaIII      Tuc3    -6.3 ...    27.0    0.18 Shipp2018,DrlicaWagner2015\n",
       "      Indus       Ind   -36.3 ...    16.6    0.83                  Shipp2018\n",
       "        ...       ...     ... ...     ...     ...                        ...\n",
       "Turranburra       Tur    59.3 ...    27.5     0.6                  Shipp2018\n",
       "  Wambelong       Wam    90.5 ...    15.1     0.4                  Shipp2018\n",
       "      Palca       Pca    30.3 ...    36.3     0.0                  Shipp2018\n",
       "        Jet       Jet  133.75 ...    28.6    0.18                 Jethwa2017\n",
       "     Gaia-1     Gaia1   184.0 ...     6.0     0.5                 Malhan2018\n",
       "     Gaia-2     Gaia2     6.0 ...    13.0     0.0                 Malhan2018\n",
       "     Gaia-3     Gaia3   171.0 ...    14.0     0.0                 Malhan2018\n",
       "     Gaia-4     Gaia4   163.0 ...    11.5     0.0                 Malhan2018\n",
       "     Gaia-5     Gaia5   137.0 ...    20.5     0.0                 Malhan2018\n",
       "      Pal13     Pal13   -15.7 ...    23.6    0.25                  Shipp2020"
      ]
     },
     "execution_count": 143,
     "metadata": {},
     "output_type": "execute_result"
    }
   ],
   "source": [
    "tpair = astropy.io.ascii.read(\"../support_data/lib_by_pair.dat\",header_start=4)\n",
    "#tpair.replace_column('Ro', tpair[\"Ro\"].astype(float))\n",
    "tpair"
   ]
  },
  {
   "cell_type": "code",
   "execution_count": 144,
   "metadata": {},
   "outputs": [
    {
     "name": "stdout",
     "output_type": "stream",
     "text": [
      "0 Phoenix\n",
      "Phoenix -> track.ep.Phoenix.balbinot2016.ecsv\n",
      "1 Acheron\n"
     ]
    },
    {
     "name": "stderr",
     "output_type": "stream",
     "text": [
      "/Users/cmateu/miniconda3/lib/python3.7/site-packages/astropy/units/quantity.py:477: RuntimeWarning: divide by zero encountered in true_divide\n",
      "  result = super().__array_ufunc__(function, method, *arrays, **kwargs)\n",
      "/Users/cmateu/miniconda3/lib/python3.7/site-packages/astropy/units/quantity.py:477: RuntimeWarning: invalid value encountered in true_divide\n",
      "  result = super().__array_ufunc__(function, method, *arrays, **kwargs)\n",
      "/Users/cmateu/miniconda3/lib/python3.7/site-packages/astropy/units/quantity.py:477: RuntimeWarning: invalid value encountered in pdp\n",
      "  result = super().__array_ufunc__(function, method, *arrays, **kwargs)\n"
     ]
    },
    {
     "name": "stdout",
     "output_type": "stream",
     "text": [
      "Acheron -> track.ep.Acheron.grillmair2009.ecsv\n",
      "2 Cocytos\n",
      "Cocytos -> track.ep.Cocytos.grillmair2009.ecsv\n",
      "3 Lethe\n",
      "Lethe -> track.ep.Lethe.grillmair2009.ecsv\n",
      "4 Styx\n",
      "Styx -> track.ep.Styx.grillmair2009.ecsv\n",
      "5 ACS\n",
      "ACS -> track.ep.ACS.grillmair2006.ecsv\n",
      "6 Pal15\n",
      "Pal15 -> track.ep.Pal15.myeong2017.ecsv\n",
      "7 Eridanus\n",
      "Eridanus -> track.ep.Eridanus.myeong2017.ecsv\n",
      "8 TucanaIII\n",
      "TucanaIII -> track.ep.TucanaIII.shipp2018,drlicawagner2015.ecsv\n",
      "9 Indus\n",
      "Indus -> track.ep.Indus.shipp2018.ecsv\n",
      "10 Jhelum\n",
      "Jhelum -> track.ep.Jhelum.shipp2018.ecsv\n",
      "11 Ravi\n",
      "Ravi -> track.ep.Ravi.shipp2018.ecsv\n",
      "12 Chenab\n",
      "Chenab -> track.ep.Chenab.shipp2018.ecsv\n",
      "13 Elqui\n",
      "Elqui -> track.ep.Elqui.shipp2018.ecsv\n",
      "14 Aliqa_Uma\n",
      "Aliqa_Uma -> track.ep.Aliqa_Uma.shipp2018.ecsv\n",
      "15 Turbio\n",
      "Turbio -> track.ep.Turbio.shipp2018.ecsv\n",
      "16 Willka_Yaku\n",
      "Willka_Yaku -> track.ep.Willka_Yaku.shipp2018.ecsv\n",
      "17 Turranburra\n",
      "Turranburra -> track.ep.Turranburra.shipp2018.ecsv\n",
      "18 Wambelong\n",
      "Wambelong -> track.ep.Wambelong.shipp2018.ecsv\n",
      "19 Palca\n",
      "Palca -> track.ep.Palca.shipp2018.ecsv\n",
      "20 Jet\n",
      "Jet -> track.ep.Jet.jethwa2017.ecsv\n",
      "21 Gaia-1\n",
      "Gaia-1 -> track.ep.Gaia-1.malhan2018.ecsv\n",
      "22 Gaia-2\n",
      "Gaia-2 -> track.ep.Gaia-2.malhan2018.ecsv\n",
      "23 Gaia-3\n",
      "Gaia-3 -> track.ep.Gaia-3.malhan2018.ecsv\n",
      "24 Gaia-4\n",
      "Gaia-4 -> track.ep.Gaia-4.malhan2018.ecsv\n",
      "25 Gaia-5\n",
      "Gaia-5 -> track.ep.Gaia-5.malhan2018.ecsv\n",
      "26 Pal13\n",
      "Pal13 -> track.ep.Pal13.shipp2020.ecsv\n"
     ]
    },
    {
     "data": {
      "text/plain": [
       "<Figure size 720x720 with 0 Axes>"
      ]
     },
     "metadata": {},
     "output_type": "display_data"
    }
   ],
   "source": [
    "gcstep=0.1\n",
    "coo_frame=dict(equ=\"icrs\",gal=\"galactic\",Galactocentric=\"GC\")\n",
    "\n",
    "for i in range(tpair[\"lono\"].size)[:]:\n",
    "\n",
    "    Name, ShortName, Reference = tpair[\"Name\"][i], tpair[\"ShortName\"][i], tpair[\"Reference\"][i] \n",
    "    print(i,Name)\n",
    "\n",
    "    #End points\n",
    "    track_end_point_o = ac.SkyCoord(tpair[\"lono\"][i]*u.deg ,tpair[\"lato\"][i]*u.deg, frame=coo_frame[tpair[\"frame\"][i]])\n",
    "    track_end_point_f = ac.SkyCoord(tpair[\"lonf\"][i]*u.deg ,tpair[\"latf\"][i]*u.deg, frame=coo_frame[tpair[\"frame\"][i]])\n",
    "\n",
    "    track_end_points = ac.SkyCoord(np.array([tpair[\"lono\"][i],tpair[\"lonf\"][i]])*u.deg,\n",
    "                                   np.array([tpair[\"lato\"][i],tpair[\"latf\"][i]])*u.deg,\n",
    "                                   distance=np.array([tpair[\"Ro\"][i],tpair[\"Rf\"][i]])*u.kpc,\n",
    "                                   frame=coo_frame[tpair[\"frame\"][i]],\n",
    "                                   pm_ra_cosdec=np.zeros(2)*u.arcsec/u.yr, \n",
    "                                   pm_dec=np.zeros(2)*u.arcsec/u.yr)\n",
    "\n",
    "    \n",
    "    #Mid point. This track is, by definitiion a great circle. In this case, it is valid that the mean will be in the same plane and thus a valid mid-point\n",
    "    track_mid_point = mean_of_skycoords(track_end_points)   \n",
    "    \n",
    "    mid_pole = gc.greatcircle.pole_from_endpoints(track_end_point_o, track_end_point_f)\n",
    "    stream_fr = gc.GreatCircleICRSFrame(pole=mid_pole, ra0=track_mid_point.ra)\n",
    "    \n",
    "    #Generate sky track\n",
    "    phis_o=np.linspace( (track_end_points.transform_to(stream_fr).phi1.value).min(),  (track_end_points.transform_to(stream_fr).phi1.value).max(), 200)\n",
    "    phi1s = phis_o*track_end_points.ra.unit\n",
    "    phi2 = np.zeros(phi1s.size)*phi1s.unit\n",
    "    \n",
    "    #Distance track - If a detailed track is lacking and only Ro,Rf are reported, nothing better to do than linear interpolation\n",
    "    Fd = scipy.interpolate.interp1d([phis_o[0],phis_o[-1]],[tpair[\"Ro\"][i],tpair[\"Rf\"][i]],kind='linear',bounds_error=False)\n",
    "    distance = Fd(phi1s.value)*u.kpc    #Ro,Rf are passed in kpc\n",
    "\n",
    "    \n",
    "    #In this category, for now it's assumed no proper motion data is available. If it is, move to Individual stream category\n",
    "    track = ac.SkyCoord(phi1=phi1s, phi2=phi2, \n",
    "                        distance=distance,\n",
    "                        frame=stream_fr, \n",
    "                        pm_phi1_cosphi2=np.zeros(phi2.size)*u.arcsec/u.yr, \n",
    "                        pm_phi2=np.zeros(phi2.size)*u.arcsec/u.yr)\n",
    "\n",
    "    #Objects are stored in icrs by default\n",
    "    track_mid_point = ac.SkyCoord(ra=track_mid_point.ra*np.ones(1), dec=track_mid_point.dec*np.ones(1), \n",
    "                                  distance=Fd(0.)*u.kpc, frame=\"icrs\", \n",
    "                                  pm_ra_cosdec=np.zeros(1)*u.arcsec/u.yr, pm_dec=np.zeros(1)*u.arcsec/u.yr )    \n",
    "\n",
    "\n",
    "    mid_pole = ac.SkyCoord(ra=mid_pole.ra*np.ones(1), dec=mid_pole.dec*np.ones(1), distance=np.zeros(1), frame=\"icrs\", \n",
    "                           pm_ra_cosdec=np.zeros(1)*u.arcsec/u.yr, pm_dec=np.zeros(1)*u.arcsec/u.yr )\n",
    "\n",
    "\n",
    "    ofileroot = f\"track.ep.{Name}.{Reference.lower()}\"\n",
    "\n",
    "    #Save plots\n",
    "    stream_plot(track, track, track_end_points, track_mid_point, stream_fr, saveplot=True, plotfilen=ofileroot+\".png\", clf=True, StreamName=Name, plot_obs=False)\n",
    "\n",
    "    #Print track out\n",
    "    ofileroot = f\"track.ep.{Name}.{Reference.lower()}\"\n",
    "    print(f\"{Name} -> {ofileroot}.ecsv\")\n",
    "    save_track_ecsv(f\"{ofileroot}.ecsv\",track = track.icrs)\n",
    "\n",
    "    #Save track summary - one line per stream. Yes, I prefer this. That way each stream's summary can be independently updated. \n",
    "    ofilesn = f\"{ofileroot}.summary.ecsv\"    \n",
    "    save_summary_ecsv(ofilesn, track_end_points.icrs, track_mid_point.icrs, mid_pole.icrs, StreamName=Name, StreamShortName=ShortName )\n",
    "    \n",
    "\n"
   ]
  },
  {
   "cell_type": "code",
   "execution_count": 102,
   "metadata": {},
   "outputs": [],
   "source": [
    "mwsts=galstreams.MWStreams(verbose=False)"
   ]
  },
  {
   "cell_type": "code",
   "execution_count": 110,
   "metadata": {},
   "outputs": [
    {
     "data": {
      "text/plain": [
       "[<matplotlib.lines.Line2D at 0x7f90cadf7128>]"
      ]
     },
     "execution_count": 110,
     "metadata": {},
     "output_type": "execute_result"
    },
    {
     "data": {
      "image/png": "[encoded data removed]",
      "text/plain": [
       "<Figure size 432x288 with 1 Axes>"
      ]
     },
     "metadata": {
      "needs_background": "light"
     },
     "output_type": "display_data"
    }
   ],
   "source": [
    "#Read-in validation\n",
    "ofilen=\"track.ep.Acheron.grillmair2009.ecsv\"\n",
    "t = astropy.table.QTable.read(ofilen)\n",
    "sc = ac.SkyCoord(**t)\n",
    "\n",
    "#rr=astropy.io.ascii.read(ofilen, format='ecsv')   \n",
    "#rr[\"sc\"].ra\n",
    "plt.plot(mwsts[\"Acheron\"].ra,mwsts[\"Acheron\"].dec,'.')\n",
    "plt.plot(sc.ra.deg,sc.dec.deg,'.')"
   ]
  },
  {
   "cell_type": "code",
   "execution_count": null,
   "metadata": {},
   "outputs": [],
   "source": []
  },
  {
   "cell_type": "markdown",
   "metadata": {},
   "source": [
    "Tracks init by pole\n",
    "===================="
   ]
  },
  {
   "cell_type": "code",
   "execution_count": 53,
   "metadata": {},
   "outputs": [
    {
     "data": {
      "text/html": [
       "<i>Table length=10</i>\n",
       "<table id=\"table140466227246808\" class=\"table-striped table-bordered table-condensed\">\n",
       "<thead><tr><th>Name</th><th>pole_lon</th><th>pole_lat</th><th>pole_frame</th><th>center_lon</th><th>center_lat</th><th>cent_frame</th><th>dlon_deg</th><th>dlat</th><th>Ro</th><th>Rf</th><th>Reference</th></tr></thead>\n",
       "<thead><tr><th>str9</th><th>float64</th><th>float64</th><th>str3</th><th>float64</th><th>float64</th><th>str3</th><th>float64</th><th>float64</th><th>float64</th><th>float64</th><th>str13</th></tr></thead>\n",
       "<tr><td>PS1-A</td><td>300.856</td><td>20.732</td><td>equ</td><td>160.17</td><td>-62.27</td><td>gal</td><td>5.0</td><td>0.45</td><td>7.9</td><td>7.9</td><td>Bernard2016</td></tr>\n",
       "<tr><td>PS1-B</td><td>65.603</td><td>32.567</td><td>equ</td><td>248.41</td><td>32.3</td><td>gal</td><td>10.0</td><td>0.45</td><td>14.5</td><td>14.5</td><td>Bernard2016</td></tr>\n",
       "<tr><td>PS1-C</td><td>232.227</td><td>33.838</td><td>equ</td><td>75.12</td><td>-32.6</td><td>gal</td><td>8.0</td><td>0.333</td><td>17.4</td><td>17.4</td><td>Bernard2016</td></tr>\n",
       "<tr><td>PS1-D</td><td>49.64</td><td>2.467</td><td>equ</td><td>231.06</td><td>32.83</td><td>gal</td><td>45.0</td><td>0.867</td><td>22.9</td><td>22.9</td><td>Bernard2016</td></tr>\n",
       "<tr><td>PS1-E</td><td>42.526</td><td>23.987</td><td>equ</td><td>144.17</td><td>58.4</td><td>gal</td><td>25.0</td><td>0.617</td><td>12.6</td><td>12.6</td><td>Bernard2016</td></tr>\n",
       "<tr><td>ATLAS</td><td>77.16</td><td>46.92</td><td>equ</td><td>25.0</td><td>-30.0</td><td>equ</td><td>12.0</td><td>0.25</td><td>20.0</td><td>20.0</td><td>Koposov2014</td></tr>\n",
       "<tr><td>Ophiuchus</td><td>184.32</td><td>77.25</td><td>equ</td><td>4.53</td><td>31.69</td><td>gal</td><td>2.5</td><td>0.12</td><td>9.5</td><td>9.5</td><td>Bernard2014</td></tr>\n",
       "<tr><td>Sangarius</td><td>178.0</td><td>-52.0</td><td>gal</td><td>149.01</td><td>7.847</td><td>equ</td><td>59.0</td><td>0.44</td><td>21.0</td><td>21.0</td><td>Grillmair2017</td></tr>\n",
       "<tr><td>Scamander</td><td>196.0</td><td>-41.0</td><td>gal</td><td>153.52</td><td>12.46</td><td>equ</td><td>66.0</td><td>0.22</td><td>21.0</td><td>21.0</td><td>Grillmair2017</td></tr>\n",
       "<tr><td>Corvus</td><td>104.5</td><td>32.46</td><td>GC</td><td>288.98</td><td>46.21</td><td>gal</td><td>0.0</td><td>0.0</td><td>11.0</td><td>11.0</td><td>Mateu2018</td></tr>\n",
       "</table>"
      ],
      "text/plain": [
       "<Table length=10>\n",
       "   Name   pole_lon pole_lat pole_frame ...   dlat     Ro      Rf     Reference  \n",
       "   str9   float64  float64     str3    ... float64 float64 float64     str13    \n",
       "--------- -------- -------- ---------- ... ------- ------- ------- -------------\n",
       "    PS1-A  300.856   20.732        equ ...    0.45     7.9     7.9   Bernard2016\n",
       "    PS1-B   65.603   32.567        equ ...    0.45    14.5    14.5   Bernard2016\n",
       "    PS1-C  232.227   33.838        equ ...   0.333    17.4    17.4   Bernard2016\n",
       "    PS1-D    49.64    2.467        equ ...   0.867    22.9    22.9   Bernard2016\n",
       "    PS1-E   42.526   23.987        equ ...   0.617    12.6    12.6   Bernard2016\n",
       "    ATLAS    77.16    46.92        equ ...    0.25    20.0    20.0   Koposov2014\n",
       "Ophiuchus   184.32    77.25        equ ...    0.12     9.5     9.5   Bernard2014\n",
       "Sangarius    178.0    -52.0        gal ...    0.44    21.0    21.0 Grillmair2017\n",
       "Scamander    196.0    -41.0        gal ...    0.22    21.0    21.0 Grillmair2017\n",
       "   Corvus    104.5    32.46         GC ...     0.0    11.0    11.0     Mateu2018"
      ]
     },
     "execution_count": 53,
     "metadata": {},
     "output_type": "execute_result"
    }
   ],
   "source": [
    "tpoles = astropy.io.ascii.read(\"../support_data/lib_by_pole.dat\",header_start=2)\n",
    "tpoles"
   ]
  },
  {
   "cell_type": "code",
   "execution_count": 55,
   "metadata": {},
   "outputs": [
    {
     "name": "stdout",
     "output_type": "stream",
     "text": [
      "PS1-A 50\n",
      "0 PS1-A -> track.po.PS1-A.bernard2016.ecsv\n",
      "PS1-B 100\n",
      "1 PS1-B -> track.po.PS1-B.bernard2016.ecsv\n",
      "PS1-C 80\n",
      "2 PS1-C -> track.po.PS1-C.bernard2016.ecsv\n",
      "PS1-D 450\n",
      "3 PS1-D -> track.po.PS1-D.bernard2016.ecsv\n",
      "PS1-E 250\n",
      "4 PS1-E -> track.po.PS1-E.bernard2016.ecsv\n",
      "ATLAS 120\n",
      "5 ATLAS -> track.po.ATLAS.koposov2014.ecsv\n",
      "Ophiuchus 25\n",
      "6 Ophiuchus -> track.po.Ophiuchus.bernard2014.ecsv\n",
      "Sangarius 502\n",
      "7 Sangarius -> track.po.Sangarius.grillmair2017.ecsv\n",
      "Scamander 653\n",
      "8 Scamander -> track.po.Scamander.grillmair2017.ecsv\n",
      "Corvus 3600\n",
      "9 Corvus -> track.po.Corvus.mateu2018.ecsv\n"
     ]
    }
   ],
   "source": [
    "tp=tpoles\n",
    "for i in range(tp[\"Name\"].size)[:]:\n",
    "    _ = ac.galactocentric_frame_defaults.set('v4.0') \n",
    "    \n",
    "    #Store pole and center coords, each in its own frame. \n",
    "    if \"GC\" not in tp[\"pole_frame\"][i] and \"GC\" not in tp[\"cent_frame\"][i]:\n",
    "        pole_sc = ac.SkyCoord( tp[\"pole_lon\"][i], tp[\"pole_lat\"][i], unit=u.deg, frame=coo_frame[tp[\"pole_frame\"][i]] )\n",
    "        cent_sc = ac.SkyCoord( tp[\"center_lon\"][i], tp[\"center_lat\"][i], unit=u.deg, frame=coo_frame[tp[\"cent_frame\"][i]] )\n",
    "                             \n",
    "        #Generate track from pole. Starting here, do everything in galactic\n",
    "        azs,lats=gcutils.get_gc_for_pole(pole_sc.galactic.l.deg,pole_sc.galactic.b.deg,degree=True,\n",
    "                                         center=[cent_sc.galactic.l.deg,cent_sc.galactic.b.deg],\n",
    "                                         dlon=tp[\"dlon_deg\"][i],dlat=0.,step=gcstep)\n",
    "                                                                       \n",
    "        distance = np.ones_like(azs)*tp[\"Ro\"][i]                                                            \n",
    "        coo = ac.SkyCoord( azs*u.deg, lats*u.deg, frame=\"galactic\", distance = distance*u.kpc )\n",
    "    else:\n",
    "        if \"GC\" not in tp[\"cent_frame\"][i]:\n",
    "                cent_sc=ac.SkyCoord(tp[\"center_lon\"][i]*u.deg, tp[\"center_lat\"][i]*u.deg, frame=coo_frame[tp[\"cent_frame\"][i]], \n",
    "                                    distance=tp[\"Ro\"][i]*u.kpc)\n",
    "                cent_in_GC=cent_sc.transform_to(ac.Galactocentric)                 \n",
    "        azs,lats=gcutils.get_gc_for_pole( tp[\"pole_lon\"][i],tp[\"pole_lat\"][i],degree=True,\n",
    "                                         center=[cent_in_GC.spherical.lon.deg,cent_in_GC.spherical.lat.deg],\n",
    "                                         dlon=tp[\"dlon_deg\"][i],dlat=0.,step=gcstep)\n",
    "                                          \n",
    "        distance=tp[\"Ro\"][i]*np.ones_like(azs)                                                                     \n",
    "        galcen = ac.SkyCoord(lon=azs*u.deg, lat=lats*u.deg, distance=distance*u.kpc, frame=ac.Galactocentric,  representation_type='spherical' )\n",
    "        \n",
    "        #Do it this way, instead of just gc.transform_to(\"galactic\"), because extra info in SkyCoord obj due to Galactocentric initialization \n",
    "        #gives a RepresentationError when printing ecsv table\n",
    "        coo = ac.SkyCoord(l=galcen.galactic.l, b=galcen.galactic.b, distance=galcen.galactic.distance, frame='galactic')                     \n",
    "\n",
    "        \n",
    "    width = tp[\"dlat\"][i]*np.ones(np.size(coo.l))*u.kpc \n",
    "    \n",
    "    \n",
    "    #Print track\n",
    "    print(tp[\"Name\"][i],np.size(azs))\n",
    "    ofilen=\"track.po.{Name}.{Ref}.ecsv\".format(Name=tp[\"Name\"][i], Ref=tp[\"Reference\"][i].lower() )\n",
    "    print(\"{N} {Name} -> {ofn}\".format(N=i, Name=tp[\"Name\"][i], ofn=ofilen))\n",
    "    #as magic ECSV\n",
    "    t = astropy.table.QTable([coo, width], names=['sc', 'width'])\n",
    "    #t = astropy.table.QTable([coo], names=['sc'])\n",
    "\n",
    "    astropy.io.ascii.write(t, format='ecsv', delimiter=',', output=ofilen, overwrite=True)   \n",
    "    #print(\"printed\")"
   ]
  },
  {
   "cell_type": "markdown",
   "metadata": {},
   "source": [
    "Individually initialized tracks\n",
    "==================================="
   ]
  },
  {
   "cell_type": "markdown",
   "metadata": {},
   "source": [
    "Ibata 2020 streams\n",
    "------------------"
   ]
  },
  {
   "cell_type": "code",
   "execution_count": 50,
   "metadata": {},
   "outputs": [],
   "source": [
    "ibt=astropy.io.ascii.read(\"../support_data/tab01_toCecilia.cat\")\n",
    "ib=ac.SkyCoord(ra=ibt[\"ra_epoch2000\"]*u.deg, dec=ibt[\"dec_epoch2000\"]*u.deg, distance=ibt[\"dis\"]*u.kpc, \n",
    "                pm_ra_cosdec=ibt[\"pmra\"]*u.mas/u.yr, pm_dec=ibt[\"pmdec\"]*u.mas/u.yr)#, radial_velocity=np.zeros(ibt[\"dis\"].size)*u.km/u.s)\n",
    "ib.stream=ibt[\"stream\"]"
   ]
  },
  {
   "cell_type": "code",
   "execution_count": 51,
   "metadata": {},
   "outputs": [
    {
     "data": {
      "text/plain": [
       "[<matplotlib.lines.Line2D at 0x7f90cc201390>]"
      ]
     },
     "execution_count": 51,
     "metadata": {},
     "output_type": "execute_result"
    },
    {
     "data": {
      "image/png": "[encoded data removed]",
      "text/plain": [
       "<Figure size 432x288 with 1 Axes>"
      ]
     },
     "metadata": {
      "needs_background": "light"
     },
     "output_type": "display_data"
    }
   ],
   "source": [
    "m=ib.stream==8\n",
    "plt.scatter(ib.galactic.l,ib.galactic.b,c=ib.stream,marker='.',cmap=plt.cm.Paired)\n",
    "plt.plot(ib.galactic.l[m],ib.galactic.b[m],'.k')"
   ]
  },
  {
   "cell_type": "code",
   "execution_count": 52,
   "metadata": {},
   "outputs": [
    {
     "data": {
      "text/plain": [
       "<SkyCoord (ICRS): (ra, dec, distance) in (deg, deg, kpc)\n",
       "    (218.8535533, 58.7747837, 11.9)\n",
       " (pm_ra_cosdec, pm_dec) in mas / yr\n",
       "    (-6.83, -1.416)>"
      ]
     },
     "execution_count": 52,
     "metadata": {},
     "output_type": "execute_result"
    }
   ],
   "source": [
    "ib[m][-3]"
   ]
  },
  {
   "cell_type": "code",
   "execution_count": 53,
   "metadata": {},
   "outputs": [],
   "source": [
    "#pole=gc.greatcircle.pole_from_endpoints(ib[m][0], ib[m][-3])"
   ]
  },
  {
   "cell_type": "code",
   "execution_count": 54,
   "metadata": {},
   "outputs": [],
   "source": [
    "#np.unique(ib.stream)"
   ]
  },
  {
   "cell_type": "code",
   "execution_count": 142,
   "metadata": {},
   "outputs": [
    {
     "name": "stdout",
     "output_type": "stream",
     "text": [
      "1 -> track.st.1.ibata2020.ecsv\n",
      "2 -> track.st.2.ibata2020.ecsv\n",
      "3 -> track.st.3.ibata2020.ecsv\n",
      "4 -> track.st.4.ibata2020.ecsv\n",
      "5 -> track.st.5.ibata2020.ecsv\n",
      "6 -> track.st.6.ibata2020.ecsv\n",
      "7 -> track.st.7.ibata2020.ecsv\n",
      "8 -> track.st.8.ibata2020.ecsv\n",
      "9 -> track.st.9.ibata2020.ecsv\n",
      "10 -> track.st.10.ibata2020.ecsv\n",
      "11 -> track.st.11.ibata2020.ecsv\n",
      "12 -> track.st.12.ibata2020.ecsv\n",
      "13 -> track.st.13.ibata2020.ecsv\n",
      "14 -> track.st.14.ibata2020.ecsv\n",
      "15 -> track.st.15.ibata2020.ecsv\n",
      "16 -> track.st.16.ibata2020.ecsv\n",
      "17 -> track.st.17.ibata2020.ecsv\n",
      "18 -> track.st.18.ibata2020.ecsv\n",
      "19 -> track.st.19.ibata2020.ecsv\n",
      "20 -> track.st.20.ibata2020.ecsv\n",
      "21 -> track.st.21.ibata2020.ecsv\n",
      "22 -> track.st.22.ibata2020.ecsv\n",
      "23 -> track.st.23.ibata2020.ecsv\n",
      "24 -> track.st.24.ibata2020.ecsv\n",
      "25 -> track.st.25.ibata2020.ecsv\n",
      "26 -> track.st.26.ibata2020.ecsv\n",
      "27 -> track.st.27.ibata2020.ecsv\n",
      "28 -> track.st.28.ibata2020.ecsv\n",
      "29 -> track.st.29.ibata2020.ecsv\n",
      "30 -> track.st.30.ibata2020.ecsv\n",
      "31 -> track.st.31.ibata2020.ecsv\n",
      "32 -> track.st.32.ibata2020.ecsv\n"
     ]
    },
    {
     "data": {
      "text/plain": [
       "<Figure size 720x720 with 0 Axes>"
      ]
     },
     "metadata": {},
     "output_type": "display_data"
    }
   ],
   "source": [
    "i = 22 #8 22 #31\n",
    "#It has to be done this way. I dont't know why, but using the full ib SKyCoord obj gives a representation error\n",
    "#TypeError: Operation 'truediv' is not supported when differentials are attached to a CartesianRepresentation.\n",
    "mask = ib.ra>195*u.deg\n",
    "ibs = ib[m & mask]\n",
    "\n",
    "for i in np.unique(ib.stream)[:]:\n",
    "    m = ib.stream==i\n",
    "    ibs = ib[m]\n",
    "    Name=f\"{i}\"\n",
    "\n",
    "    track, track_width, track_end_points, track_mid_point, mid_pole, stream_fr, track_fits = get_track_from_points(ibs)\n",
    "\n",
    "    #Print track out\n",
    "    ofileroot = \"track.st.{Name}.{Ref}\".format(Name=i, Ref=\"ibata2020\" )\n",
    "    print(f\"{Name} -> {ofileroot}.ecsv\")\n",
    "    save_track_ecsv(f\"{ofileroot}.ecsv\",track)\n",
    "\n",
    "    #Save track summary - one line per stream. Yes, I prefer this. That way each stream's summary can be independently updated. \n",
    "    ofilesn = f\"{ofileroot}.summary.ecsv\"    \n",
    "    save_summary_ecsv(ofilesn, track_end_points, track_mid_point, mid_pole, StreamName=Name, StreamShortName=\"xxx\", )\n",
    "    \n",
    "    #While we're at it. Make plot and save\n",
    "    stream_plot(ibs, track, track_end_points, track_mid_point, stream_fr, saveplot=True, plotfilen=ofileroot+\".png\",  clf=True, StreamName=Name)\n",
    "    \n",
    "    #Save poly-footprint\n",
    "    #here...\n",
    "\n",
    "\n",
    "# Then, when reading it back in, it should be possible to do:\n",
    "# t = at.QTable.read('filename.ecsv')\n",
    "# sc = coord.SkyCoord(**t)\n",
    "\n",
    "\n"
   ]
  },
  {
   "cell_type": "markdown",
   "metadata": {},
   "source": [
    "Alpheus\n",
    "========"
   ]
  },
  {
   "cell_type": "code",
   "execution_count": 163,
   "metadata": {},
   "outputs": [
    {
     "name": "stdout",
     "output_type": "stream",
     "text": [
      "Alpheus -> track.st.Alpheus.grillmair2013.ecsv\n"
     ]
    },
    {
     "data": {
      "image/png": "[encoded data removed]",
      "text/plain": [
       "<Figure size 720x720 with 10 Axes>"
      ]
     },
     "metadata": {
      "needs_background": "light"
     },
     "output_type": "display_data"
    }
   ],
   "source": [
    "#Alpheus\n",
    "dec=np.linspace(-69.,-45.,20)\n",
    "ra = 32.116-0.00256*dec-0.00225*(dec**2)  #from Grillmair 2013\n",
    "D = 2.*np.ones(ra.size)\n",
    "zeros=np.zeros(ra.size)\n",
    "Ref = \"grillmair2013\"\n",
    "Name,ShortName= \"Alpheus\",\"Alp\"\n",
    "\n",
    "obs = ac.SkyCoord(ra=ra*u.deg, dec=dec*u.deg, distance=D*u.kpc, frame='icrs',\n",
    "                 pm_ra_cosdec=zeros*u.arcsec/u.yr, pm_dec=zeros*u.arcsec/u.yr)\n",
    "\n",
    "track, track_width, track_end_points, track_mid_point, mid_pole, stream_fr, track_fits = get_track_from_points(obs)\n",
    "\n",
    "#Print track out\n",
    "ofileroot = f\"track.st.{Name}.{Ref}\"\n",
    "print(f\"{Name} -> {ofileroot}.ecsv\")\n",
    "save_track_ecsv(f\"{ofileroot}.ecsv\",track)\n",
    "\n",
    "#Save track summary - one line per stream. Yes, I prefer this. That way each stream's summary can be independently updated. \n",
    "ofilesn = f\"{ofileroot}.summary.ecsv\"    \n",
    "save_summary_ecsv(ofilesn, track_end_points, track_mid_point, mid_pole, StreamName=Name, StreamShortName=ShortName )\n",
    "\n",
    "#While we're at it. Make plot and save\n",
    "stream_plot(obs, track, track_end_points, track_mid_point, stream_fr, saveplot=True, plotfilen=ofileroot+\".png\",  clf=False, StreamName=Name)"
   ]
  },
  {
   "cell_type": "markdown",
   "metadata": {},
   "source": [
    "Hermus\n",
    "======="
   ]
  },
  {
   "cell_type": "markdown",
   "metadata": {},
   "source": [
    "Notes on Hermus:\n",
    "- Distance gradient to be implemented\n"
   ]
  },
  {
   "cell_type": "code",
   "execution_count": 164,
   "metadata": {},
   "outputs": [
    {
     "name": "stdout",
     "output_type": "stream",
     "text": [
      "Hermus -> track.st.Hermus.grillmair2014.ecsv\n"
     ]
    },
    {
     "data": {
      "image/png": "[encoded data removed]",
      "text/plain": [
       "<Figure size 720x720 with 10 Axes>"
      ]
     },
     "metadata": {
      "needs_background": "light"
     },
     "output_type": "display_data"
    }
   ],
   "source": [
    "\n",
    "#Hermus\n",
    "#from Grillmair 2014\n",
    "N=500\n",
    "dec=np.linspace(5.,+50.,500)\n",
    "ra=241.571 + 1.37841*dec -0.148870*(dec**2) + 0.00589502*(dec**3) -1.03927E-4*(dec**4) + 7.28133E-7*(dec**5)\n",
    "zeros=np.zeros(ra.size)\n",
    "width=0.5*u.deg\n",
    "#Grillmair says distance is: (15 north end, central 20, south 19) kpc\n",
    "Fd = scipy.interpolate.interp1d([dec[0],dec[25],dec[-1]],[19.,20.,15.],kind='linear',bounds_error=False)\n",
    "D = Fd(dec)*u.kpc    #Ro,Rf are passed in kpc\n",
    "\n",
    "#D = 18.+zeros\n",
    "\n",
    "Ref = \"grillmair2014\"\n",
    "Name,ShortName= \"Hermus\",\"Her\"\n",
    "\n",
    "obs = ac.SkyCoord(ra=ra*u.deg, dec=dec*u.deg, distance=D*u.kpc, frame='fk5',\n",
    "                 pm_ra_cosdec=zeros*u.arcsec/u.yr, pm_dec=zeros*u.arcsec/u.yr)\n",
    "\n",
    "track, track_width, track_end_points, track_mid_point, mid_pole, stream_fr, track_fits = get_track_from_points(obs.icrs)\n",
    "\n",
    "#Print track out\n",
    "ofileroot = f\"track.st.{Name}.{Ref}\"\n",
    "print(f\"{Name} -> {ofileroot}.ecsv\")\n",
    "save_track_ecsv(f\"{ofileroot}.ecsv\",track)\n",
    "\n",
    "#Save track summary - one line per stream. Yes, I prefer this. That way each stream's summary can be independently updated. \n",
    "ofilesn = f\"{ofileroot}.summary.ecsv\"    \n",
    "save_summary_ecsv(ofilesn, track_end_points, track_mid_point, mid_pole, StreamName=Name, StreamShortName=ShortName )\n",
    "\n",
    "#While we're at it. Make plot and save\n",
    "stream_plot(obs, track, track_end_points, track_mid_point, stream_fr, saveplot=True, plotfilen=ofileroot+\".png\",  clf=False, StreamName=Name, plot_obs=True)"
   ]
  },
  {
   "cell_type": "markdown",
   "metadata": {},
   "source": [
    "Hyllus\n",
    "======="
   ]
  },
  {
   "cell_type": "markdown",
   "metadata": {},
   "source": [
    "- Distance grandient to be implemented"
   ]
  },
  {
   "cell_type": "code",
   "execution_count": 165,
   "metadata": {},
   "outputs": [
    {
     "name": "stdout",
     "output_type": "stream",
     "text": [
      "Hyllus -> track.st.Hyllus.grillmair2014.ecsv\n"
     ]
    },
    {
     "data": {
      "image/png": "[encoded data removed]",
      "text/plain": [
       "<Figure size 720x720 with 10 Axes>"
      ]
     },
     "metadata": {
      "needs_background": "light"
     },
     "output_type": "display_data"
    }
   ],
   "source": [
    "dec=np.linspace(11.,+34.,200)\n",
    "ra=255.8150-0.78364*dec + 0.01532*dec**2\n",
    "#D= north 18.5, south 23\n",
    "\n",
    "zeros=np.zeros(ra.size)\n",
    "width=0.5*u.deg\n",
    "#Grillmair says distance is: (15 north end, central 20, south 19) kpc\n",
    "Fd = scipy.interpolate.interp1d([dec[-1],dec[0]],[18.5,23.],kind='linear',bounds_error=False)\n",
    "D = Fd(dec)*u.kpc    #Ro,Rf are passed in kpc\n",
    "\n",
    "Ref = \"grillmair2014\"\n",
    "Name,ShortName= \"Hyllus\",\"Hyl\"\n",
    "\n",
    "obs = ac.SkyCoord(ra=ra*u.deg, dec=dec*u.deg, distance=D*u.kpc, frame='fk5',\n",
    "                 pm_ra_cosdec=zeros*u.arcsec/u.yr, pm_dec=zeros*u.arcsec/u.yr)\n",
    "\n",
    "track, track_width, track_end_points, track_mid_point, mid_pole, stream_fr, track_fits = get_track_from_points(obs.icrs)\n",
    "\n",
    "#Print track out\n",
    "ofileroot = f\"track.st.{Name}.{Ref}\"\n",
    "print(f\"{Name} -> {ofileroot}.ecsv\")\n",
    "save_track_ecsv(f\"{ofileroot}.ecsv\",track)\n",
    "\n",
    "#Save track summary - one line per stream. Yes, I prefer this. That way each stream's summary can be independently updated. \n",
    "ofilesn = f\"{ofileroot}.summary.ecsv\"    \n",
    "save_summary_ecsv(ofilesn, track_end_points, track_mid_point, mid_pole, StreamName=Name, StreamShortName=ShortName )\n",
    "\n",
    "#While we're at it. Make plot and save\n",
    "stream_plot(obs, track, track_end_points, track_mid_point, stream_fr, saveplot=True, plotfilen=ofileroot+\".png\",  clf=False, StreamName=Name, plot_obs=True)"
   ]
  },
  {
   "cell_type": "code",
   "execution_count": null,
   "metadata": {},
   "outputs": [],
   "source": []
  },
  {
   "cell_type": "code",
   "execution_count": 145,
   "metadata": {},
   "outputs": [
    {
     "data": {
      "text/plain": [
       "20.75"
      ]
     },
     "execution_count": 145,
     "metadata": {},
     "output_type": "execute_result"
    }
   ],
   "source": [
    "np.mean([18.5,23.])"
   ]
  },
  {
   "cell_type": "code",
   "execution_count": 111,
   "metadata": {},
   "outputs": [
    {
     "data": {
      "text/latex": [
       "$102^\\circ51{}^\\prime58.7474{}^{\\prime\\prime}$"
      ],
      "text/plain": [
       "<Longitude 102.86631871 deg>"
      ]
     },
     "execution_count": 111,
     "metadata": {},
     "output_type": "execute_result"
    }
   ],
   "source": [
    "mid_pole.ra"
   ]
  },
  {
   "cell_type": "code",
   "execution_count": 725,
   "metadata": {},
   "outputs": [
    {
     "data": {
      "text/plain": [
       "[<matplotlib.lines.Line2D at 0x7fde07eda160>]"
      ]
     },
     "execution_count": 725,
     "metadata": {},
     "output_type": "execute_result"
    },
    {
     "data": {
      "image/png": "[encoded data removed]",
      "text/plain": [
       "<Figure size 432x288 with 1 Axes>"
      ]
     },
     "metadata": {
      "needs_background": "light"
     },
     "output_type": "display_data"
    }
   ],
   "source": [
    "ibs.radial_velocity.min(),ibs.radial_velocity.max()\n",
    "plt.plot(ibs.transform_to(stream_fr).phi1,ibs.transform_to(stream_fr).radial_velocity,'.')"
   ]
  },
  {
   "cell_type": "code",
   "execution_count": 726,
   "metadata": {},
   "outputs": [
    {
     "data": {
      "text/plain": [
       "(<Quantity -8.52602672e-14 km / s>, <Quantity 7.88789046e-14 km / s>)"
      ]
     },
     "execution_count": 726,
     "metadata": {},
     "output_type": "execute_result"
    }
   ],
   "source": [
    "ibs.transform_to(stream_fr).radial_velocity.min(),ibs.transform_to(stream_fr).radial_velocity.max()"
   ]
  },
  {
   "cell_type": "code",
   "execution_count": 30,
   "metadata": {},
   "outputs": [],
   "source": [
    "x=np.ones(4)\n",
    "sc = ac.SkyCoord(ra=x*u.deg, dec=x*u.deg, distance=2*x*u.kpc, pm_ra_cosdec=x*u.arcsec/u.yr, pm_dec=3.5*x*u.arcsec/u.yr, radial_velocity=x*u.km/u.s)\n",
    "t = astropy.table.QTable([sc],names=[\"sc\"])\n",
    "astropy.io.ascii.write(t, format='ecsv', delimiter=',', output=\"test.ecsv\", overwrite=True)"
   ]
  },
  {
   "cell_type": "code",
   "execution_count": 32,
   "metadata": {},
   "outputs": [
    {
     "data": {
      "text/plain": [
       "<SkyCoord (ICRS): (ra, dec, distance) in (deg, deg, kpc)\n",
       "    [(1., 1., 2.), (1., 1., 2.), (1., 1., 2.), (1., 1., 2.)]>"
      ]
     },
     "execution_count": 32,
     "metadata": {},
     "output_type": "execute_result"
    }
   ],
   "source": [
    "rt=astropy.io.ascii.read(\"test.ecsv\")\n",
    "rt[\"sc\"]"
   ]
  },
  {
   "cell_type": "code",
   "execution_count": 35,
   "metadata": {},
   "outputs": [
    {
     "data": {
      "text/plain": [
       "'4.2'"
      ]
     },
     "execution_count": 35,
     "metadata": {},
     "output_type": "execute_result"
    }
   ],
   "source": [
    "astropy.__version__"
   ]
  },
  {
   "cell_type": "raw",
   "metadata": {},
   "source": [
    "def get_track_from_knots():\n",
    "     \"\"\" Build interpolator for the mean track from a set of knots\n",
    "\n",
    "        Parameters\n",
    "        ----------\n",
    "        sc : `astropy.coordinates.SkyCoord` instance \n",
    "\n",
    "    \"\"\""
   ]
  },
  {
   "cell_type": "markdown",
   "metadata": {},
   "source": [
    "Extras - Tests - Misc\n",
    "============================="
   ]
  },
  {
   "cell_type": "code",
   "execution_count": 141,
   "metadata": {},
   "outputs": [
    {
     "data": {
      "text/plain": [
       "array([-46.14275137, -46.1483367 , -46.15392221, ..., -46.12599641,\n",
       "       -46.13158122, -46.13716621])"
      ]
     },
     "execution_count": 141,
     "metadata": {},
     "output_type": "execute_result"
    }
   ],
   "source": [
    "t[\"sc\"].b.deg"
   ]
  },
  {
   "cell_type": "code",
   "execution_count": 109,
   "metadata": {},
   "outputs": [],
   "source": [
    "cc=ac.SkyCoord(60.*u.deg, 9.145*u.deg, distance=1*u.kpc, frame=ac.Galactocentric, representation_type='spherical')"
   ]
  },
  {
   "cell_type": "code",
   "execution_count": 165,
   "metadata": {},
   "outputs": [
    {
     "name": "stdout",
     "output_type": "stream",
     "text": [
      "<Galactocentric Frame (galcen_coord=<ICRS Coordinate: (ra, dec) in deg\n",
      "    (266.4051, -28.936175)>, galcen_distance=8.122 kpc, galcen_v_sun=(12.9, 245.6, 7.78) km / s, z_sun=20.8 pc, roll=0.0 deg)>\n"
     ]
    }
   ],
   "source": [
    "#ac.galactocentric_frame_defaults.set('v4.0') \n",
    "with ac.galactocentric_frame_defaults.set('v4.0'):\n",
    "    print(ac.Galactocentric()) "
   ]
  },
  {
   "cell_type": "code",
   "execution_count": 110,
   "metadata": {},
   "outputs": [
    {
     "data": {
      "text/latex": [
       "$0.49364464 \\; \\mathrm{kpc}$"
      ],
      "text/plain": [
       "<Quantity 0.49364464 kpc>"
      ]
     },
     "execution_count": 110,
     "metadata": {},
     "output_type": "execute_result"
    }
   ],
   "source": [
    "cc.cartesian.x, np.cos(cc.spherical.)"
   ]
  },
  {
   "cell_type": "markdown",
   "metadata": {},
   "source": [
    "Tests\n",
    "======"
   ]
  },
  {
   "cell_type": "code",
   "execution_count": 6,
   "metadata": {},
   "outputs": [],
   "source": [
    "track = [[-15.565,   9.145],\n",
    "             [-14.881,   9.873],\n",
    "             [-14.537,  10.957],\n",
    "             [-13.731,  11.824],\n",
    "             [-13.373,  12.646],\n",
    "             [-12.198,  14.068],\n",
    "             [-11.59 ,  15.172],\n",
    "             [-10.808,  16.029],\n",
    "             [-10.176,  16.871],\n",
    "             [ -9.805,  17.428]]\n",
    "track = np.array(track)\n",
    "t = ac.SkyCoord(ra=track[:,0]*u.deg,dec=track[:,1]*u.deg,frame='icrs')\n"
   ]
  },
  {
   "cell_type": "code",
   "execution_count": 16,
   "metadata": {},
   "outputs": [],
   "source": [
    "azs,lats,azcenter,latcenter=gcutils.get_gc_for_pair(-6.3, -59.7,    3.2,  -59.4,degree=True,step=gcstep,dlat=0.)\n"
   ]
  },
  {
   "cell_type": "code",
   "execution_count": 17,
   "metadata": {},
   "outputs": [
    {
     "name": "stderr",
     "output_type": "stream",
     "text": [
      "/Users/cmateu/miniconda3/lib/python3.7/site-packages/astropy/units/quantity.py:477: RuntimeWarning: invalid value encountered in true_divide\n",
      "  result = super().__array_ufunc__(function, method, *arrays, **kwargs)\n"
     ]
    }
   ],
   "source": [
    "mwsts=galstreams.MWStreams(verbose=False)"
   ]
  },
  {
   "cell_type": "code",
   "execution_count": 24,
   "metadata": {},
   "outputs": [
    {
     "data": {
      "text/plain": [
       "[<matplotlib.lines.Line2D at 0x7fde3d8401d0>]"
      ]
     },
     "execution_count": 24,
     "metadata": {},
     "output_type": "execute_result"
    },
    {
     "data": {
      "image/png": "[encoded data removed]",
      "text/plain": [
       "<Figure size 432x288 with 1 Axes>"
      ]
     },
     "metadata": {
      "needs_background": "light"
     },
     "output_type": "display_data"
    }
   ],
   "source": [
    "plt.plot(azs,lats,'.')\n",
    "ii=8\n",
    "plt.plot(360+tpair[\"lono\"][ii],tpair[\"lato\"][ii],'ro')\n",
    "plt.plot(tpair[\"lonf\"][ii],tpair[\"latf\"][ii],'ro')\n",
    "#plt.plot(coo.galactic.l.deg,coo.galactic.b.deg,'x',ms=1)"
   ]
  },
  {
   "cell_type": "code",
   "execution_count": null,
   "metadata": {},
   "outputs": [],
   "source": [
    "plt.plot(coo.ra.deg,coo.dec.deg,'.')\n",
    "plt.plot(coo.ra.deg,coo.dec.deg,'x')"
   ]
  },
  {
   "cell_type": "code",
   "execution_count": 70,
   "metadata": {},
   "outputs": [
    {
     "data": {
      "text/plain": [
       "<SkyCoord (ICRS): (ra, dec) in deg\n",
       "    [(353.7, -59.7), (  3.2, -59.4)]>"
      ]
     },
     "execution_count": 70,
     "metadata": {},
     "output_type": "execute_result"
    }
   ],
   "source": [
    "c = ac.SkyCoord(ra=[-6.3,3.2],dec=[-59.7,-59.4],frame='icrs',unit=u.deg)\n",
    "c.icrs"
   ]
  },
  {
   "cell_type": "code",
   "execution_count": 26,
   "metadata": {},
   "outputs": [
    {
     "data": {
      "text/plain": [
       "(354.33, 354.31)"
      ]
     },
     "execution_count": 26,
     "metadata": {},
     "output_type": "execute_result"
    }
   ],
   "source": [
    "azs[0],azs[-1],"
   ]
  },
  {
   "cell_type": "code",
   "execution_count": 186,
   "metadata": {},
   "outputs": [
    {
     "data": {
      "text/plain": [
       "[<matplotlib.lines.Line2D at 0x7fde3d0a85f8>]"
      ]
     },
     "execution_count": 186,
     "metadata": {},
     "output_type": "execute_result"
    },
    {
     "data": {
      "image/png": "[encoded data removed]",
      "text/plain": [
       "<Figure size 432x288 with 1 Axes>"
      ]
     },
     "metadata": {
      "needs_background": "light"
     },
     "output_type": "display_data"
    }
   ],
   "source": [
    "ofilen=\"track.ep.Turranburra.shipp2018.ecsv\"\n",
    "rr=astropy.io.ascii.read(ofilen, format='ecsv')   \n",
    "#rr[\"sc\"].ra\n",
    "plt.plot(mwsts[\"Turranburra\"].ra,mwsts[\"Turranburra\"].dec,'.')\n",
    "plt.plot(rr[\"sc\"].icrs.ra.deg,rr[\"sc\"].icrs.dec.deg,'.')"
   ]
  },
  {
   "cell_type": "code",
   "execution_count": 76,
   "metadata": {},
   "outputs": [
    {
     "data": {
      "text/plain": [
       "<SkyCoord (Galactocentric: galcen_coord=<ICRS Coordinate: (ra, dec) in deg\n",
       "    (266.4051, -28.936175)>, galcen_distance=8.3 kpc, galcen_v_sun=(11.1, 232.24, 7.25) km / s, z_sun=27.0 pc, roll=0.0 deg): (x, y, z) in kpc\n",
       "    (-3.94078643, -3.72526376, -8.1656827)>"
      ]
     },
     "execution_count": 76,
     "metadata": {},
     "output_type": "execute_result"
    }
   ],
   "source": [
    "c = ac.SkyCoord(ra=-6.3*u.deg,dec=-59.7*u.deg,distance=10*u.kpc,frame='icrs')\n"
   ]
  },
  {
   "cell_type": "code",
   "execution_count": 79,
   "metadata": {},
   "outputs": [
    {
     "name": "stderr",
     "output_type": "stream",
     "text": [
      "WARNING: AstropyDeprecationWarning: In v4.1 and later versions, the Galactocentric frame will adopt default parameters that may update with time. An updated default parameter set is already available through the astropy.coordinates.galactocentric_frame_defaults ScienceState object, as described in but the default is currently still set to the pre-v4.0 parameter defaults. The safest way to guard against changing default parameters in the future is to either (1) specify all Galactocentric frame attributes explicitly when using the frame, or (2) set the galactocentric_frame_defaults parameter set name explicitly. See http://docs.astropy.org/en/latest/coordinates/galactocentric.html for more information. [astropy.coordinates.builtin_frames.galactocentric]\n"
     ]
    },
    {
     "data": {
      "text/latex": [
       "$223^\\circ23{}^\\prime22.6163{}^{\\prime\\prime}$"
      ],
      "text/plain": [
       "<Longitude 223.38961565 deg>"
      ]
     },
     "execution_count": 79,
     "metadata": {},
     "output_type": "execute_result"
    }
   ],
   "source": [
    "c_gc=c.transform_to(ac.Galactocentric)\n",
    "c_gc.spherical.lon"
   ]
  },
  {
   "cell_type": "code",
   "execution_count": 116,
   "metadata": {},
   "outputs": [
    {
     "data": {
      "text/latex": [
       "$319^\\circ39{}^\\prime20.0213{}^{\\prime\\prime}$"
      ],
      "text/plain": [
       "<Longitude 319.65556147 deg>"
      ]
     },
     "execution_count": 116,
     "metadata": {},
     "output_type": "execute_result"
    }
   ],
   "source": [
    "c_gc.galactic.l"
   ]
  },
  {
   "cell_type": "code",
   "execution_count": null,
   "metadata": {},
   "outputs": [],
   "source": []
  }
 ],
 "metadata": {
  "kernelspec": {
   "display_name": "Python 3",
   "language": "python",
   "name": "python3"
  },
  "language_info": {
   "codemirror_mode": {
    "name": "ipython",
    "version": 3
   },
   "file_extension": ".py",
   "mimetype": "text/x-python",
   "name": "python",
   "nbconvert_exporter": "python",
   "pygments_lexer": "ipython3",
   "version": "3.7.1"
  }
 },
 "nbformat": 4,
 "nbformat_minor": 4
}
