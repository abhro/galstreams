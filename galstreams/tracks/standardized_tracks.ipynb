{
 "cells": [
  {
   "cell_type": "code",
   "execution_count": 3,
   "metadata": {},
   "outputs": [
    {
     "name": "stdout",
     "output_type": "stream",
     "text": [
      "Populating the interactive namespace from numpy and matplotlib\n"
     ]
    }
   ],
   "source": [
    "import numpy as np\n",
    "import astropy\n",
    "import astropy.coordinates as ac\n",
    "import astropy.units as u\n",
    "import astropy.io\n",
    "import astropy.table\n",
    "import scipy\n",
    "import pandas as pd\n",
    "import gcutils\n",
    "%pylab inline"
   ]
  },
  {
   "cell_type": "code",
   "execution_count": null,
   "metadata": {},
   "outputs": [],
   "source": [
    "lono,lato,lonf,latf,ro,rf,width=scipy.genfromtxt(lib_end_points_filen,usecols=(3-1,4-1,5-1,6-1,8-1,9-1,10-1),unpack=True)\n",
    "name,sname,cootype=scipy.genfromtxt(lib_end_points_filen,usecols=(1-1,2-1,7-1),unpack=True,dtype=str)\n",
    "azs,lats,azcenter,latcenter=gcutils.get_gc_for_pair(lono[i],lato[i],lonf[i],latf[i],degree=True,step=gcstep,dlat=width[i])\n"
   ]
  },
  {
   "cell_type": "code",
   "execution_count": 35,
   "metadata": {},
   "outputs": [
    {
     "data": {
      "text/html": [
       "<i>Table length=27</i>\n",
       "<table id=\"table140673059634368\" class=\"table-striped table-bordered table-condensed\">\n",
       "<thead><tr><th>Name</th><th>ShortName</th><th>lono</th><th>lato</th><th>lonf</th><th>latf</th><th>frame</th><th>Ro</th><th>Rf</th><th>Width</th><th>Reference</th></tr></thead>\n",
       "<thead><tr><th>str11</th><th>str5</th><th>float64</th><th>float64</th><th>float64</th><th>float64</th><th>str3</th><th>float64</th><th>float64</th><th>float64</th><th>str26</th></tr></thead>\n",
       "<tr><td>Phoenix</td><td>Phe</td><td>20.0</td><td>-57.0</td><td>27.0</td><td>-45.0</td><td>equ</td><td>17.5</td><td>17.5</td><td>0.18</td><td>Balbinot2016</td></tr>\n",
       "<tr><td>Acheron</td><td>Ach</td><td>230.0</td><td>-2.0</td><td>259.0</td><td>21.0</td><td>equ</td><td>3.5</td><td>3.8</td><td>0.9</td><td>Grillmair2009</td></tr>\n",
       "<tr><td>Cocytos</td><td>Coc</td><td>186.0</td><td>-3.0</td><td>259.0</td><td>20.0</td><td>equ</td><td>11.0</td><td>11.0</td><td>0.7</td><td>Grillmair2009</td></tr>\n",
       "<tr><td>Lethe</td><td>Let</td><td>171.0</td><td>18.0</td><td>258.0</td><td>20.0</td><td>equ</td><td>13.0</td><td>13.0</td><td>0.4</td><td>Grillmair2009</td></tr>\n",
       "<tr><td>Styx</td><td>Sty</td><td>259.0</td><td>21.0</td><td>194.0</td><td>20.0</td><td>equ</td><td>45.0</td><td>45.0</td><td>3.3</td><td>Grillmair2009</td></tr>\n",
       "<tr><td>ACS</td><td>ACS</td><td>126.4</td><td>-0.7</td><td>133.9</td><td>64.2</td><td>equ</td><td>8.9</td><td>8.9</td><td>5.0</td><td>Grillmair2006</td></tr>\n",
       "<tr><td>Pal15</td><td>Pal15</td><td>255.3</td><td>-1.47</td><td>254.8</td><td>-0.12</td><td>equ</td><td>38.4</td><td>38.4</td><td>0.0</td><td>Myeong2017</td></tr>\n",
       "<tr><td>Eridanus</td><td>Eri</td><td>65.98</td><td>-21.42</td><td>66.4</td><td>-20.96</td><td>equ</td><td>95.0</td><td>95.0</td><td>0.0</td><td>Myeong2017</td></tr>\n",
       "<tr><td>TucanaIII</td><td>Tuc3</td><td>-6.3</td><td>-59.7</td><td>3.2</td><td>-59.4</td><td>equ</td><td>23.0</td><td>27.0</td><td>0.18</td><td>Shipp2018,DrlicaWagner2015</td></tr>\n",
       "<tr><td>Indus</td><td>Ind</td><td>-36.3</td><td>-50.7</td><td>-8.0</td><td>-64.8</td><td>equ</td><td>16.6</td><td>16.6</td><td>0.83</td><td>Shipp2018</td></tr>\n",
       "<tr><td>...</td><td>...</td><td>...</td><td>...</td><td>...</td><td>...</td><td>...</td><td>...</td><td>...</td><td>...</td><td>...</td></tr>\n",
       "<tr><td>Turranburra</td><td>Tur</td><td>59.3</td><td>-18.0</td><td>75.2</td><td>-26.4</td><td>equ</td><td>27.5</td><td>27.5</td><td>0.6</td><td>Shipp2018</td></tr>\n",
       "<tr><td>Wambelong</td><td>Wam</td><td>90.5</td><td>-45.6</td><td>79.3</td><td>-34.3</td><td>equ</td><td>15.1</td><td>15.1</td><td>0.4</td><td>Shipp2018</td></tr>\n",
       "<tr><td>Palca</td><td>Pca</td><td>30.3</td><td>-53.7</td><td>16.2</td><td>2.4</td><td>equ</td><td>36.3</td><td>36.3</td><td>0.0</td><td>Shipp2018</td></tr>\n",
       "<tr><td>Jet</td><td>Jet</td><td>133.75</td><td>-27.7</td><td>142.0</td><td>-17.82</td><td>equ</td><td>28.6</td><td>28.6</td><td>0.18</td><td>Jethwa2017</td></tr>\n",
       "<tr><td>Gaia-1</td><td>Gaia1</td><td>184.0</td><td>-18.0</td><td>197.0</td><td>-2.0</td><td>equ</td><td>5.0</td><td>6.0</td><td>0.5</td><td>Malhan2018</td></tr>\n",
       "<tr><td>Gaia-2</td><td>Gaia2</td><td>6.0</td><td>-22.0</td><td>15.0</td><td>-27.0</td><td>equ</td><td>10.0</td><td>13.0</td><td>0.0</td><td>Malhan2018</td></tr>\n",
       "<tr><td>Gaia-3</td><td>Gaia3</td><td>171.0</td><td>-15.0</td><td>179.0</td><td>-32.0</td><td>equ</td><td>9.0</td><td>14.0</td><td>0.0</td><td>Malhan2018</td></tr>\n",
       "<tr><td>Gaia-4</td><td>Gaia4</td><td>163.0</td><td>-11.0</td><td>167.0</td><td>-3.0</td><td>equ</td><td>10.7</td><td>11.5</td><td>0.0</td><td>Malhan2018</td></tr>\n",
       "<tr><td>Gaia-5</td><td>Gaia5</td><td>137.0</td><td>23.0</td><td>154.0</td><td>42.0</td><td>equ</td><td>18.5</td><td>20.5</td><td>0.0</td><td>Malhan2018</td></tr>\n",
       "<tr><td>Pal13</td><td>Pal13</td><td>-9.8</td><td>18.2</td><td>-15.7</td><td>8.9</td><td>equ</td><td>23.6</td><td>23.6</td><td>0.25</td><td>Shipp2020</td></tr>\n",
       "</table>"
      ],
      "text/plain": [
       "<Table length=27>\n",
       "    Name    ShortName   lono  ...    Rf    Width          Reference         \n",
       "   str11       str5   float64 ... float64 float64           str26           \n",
       "----------- --------- ------- ... ------- ------- --------------------------\n",
       "    Phoenix       Phe    20.0 ...    17.5    0.18               Balbinot2016\n",
       "    Acheron       Ach   230.0 ...     3.8     0.9              Grillmair2009\n",
       "    Cocytos       Coc   186.0 ...    11.0     0.7              Grillmair2009\n",
       "      Lethe       Let   171.0 ...    13.0     0.4              Grillmair2009\n",
       "       Styx       Sty   259.0 ...    45.0     3.3              Grillmair2009\n",
       "        ACS       ACS   126.4 ...     8.9     5.0              Grillmair2006\n",
       "      Pal15     Pal15   255.3 ...    38.4     0.0                 Myeong2017\n",
       "   Eridanus       Eri   65.98 ...    95.0     0.0                 Myeong2017\n",
       "  TucanaIII      Tuc3    -6.3 ...    27.0    0.18 Shipp2018,DrlicaWagner2015\n",
       "      Indus       Ind   -36.3 ...    16.6    0.83                  Shipp2018\n",
       "        ...       ...     ... ...     ...     ...                        ...\n",
       "Turranburra       Tur    59.3 ...    27.5     0.6                  Shipp2018\n",
       "  Wambelong       Wam    90.5 ...    15.1     0.4                  Shipp2018\n",
       "      Palca       Pca    30.3 ...    36.3     0.0                  Shipp2018\n",
       "        Jet       Jet  133.75 ...    28.6    0.18                 Jethwa2017\n",
       "     Gaia-1     Gaia1   184.0 ...     6.0     0.5                 Malhan2018\n",
       "     Gaia-2     Gaia2     6.0 ...    13.0     0.0                 Malhan2018\n",
       "     Gaia-3     Gaia3   171.0 ...    14.0     0.0                 Malhan2018\n",
       "     Gaia-4     Gaia4   163.0 ...    11.5     0.0                 Malhan2018\n",
       "     Gaia-5     Gaia5   137.0 ...    20.5     0.0                 Malhan2018\n",
       "      Pal13     Pal13    -9.8 ...    23.6    0.25                  Shipp2020"
      ]
     },
     "execution_count": 35,
     "metadata": {},
     "output_type": "execute_result"
    }
   ],
   "source": [
    "tpair = astropy.io.ascii.read(\"lib_by_pair.dat\",header_start=4)\n",
    "#tpair.replace_column('Ro', tpair[\"Ro\"].astype(float))\n",
    "tpair"
   ]
  },
  {
   "cell_type": "code",
   "execution_count": 36,
   "metadata": {},
   "outputs": [
    {
     "name": "stdout",
     "output_type": "stream",
     "text": [
      "0 Phoenix -> track.Pal13.shipp2020.ecsv\n",
      "1 Acheron -> track.Phoenix.balbinot2016.ecsv\n",
      "2 Cocytos -> track.Acheron.grillmair2009.ecsv\n",
      "3 Lethe -> track.Cocytos.grillmair2009.ecsv\n",
      "4 Styx -> track.Lethe.grillmair2009.ecsv\n",
      "5 ACS -> track.Styx.grillmair2009.ecsv\n",
      "6 Pal15 -> track.ACS.grillmair2006.ecsv\n",
      "7 Eridanus -> track.Pal15.myeong2017.ecsv\n",
      "8 TucanaIII -> track.Eridanus.myeong2017.ecsv\n",
      "9 Indus -> track.TucanaIII.shipp2018,drlicawagner2015.ecsv\n",
      "10 Jhelum -> track.Indus.shipp2018.ecsv\n",
      "11 Ravi -> track.Jhelum.shipp2018.ecsv\n",
      "12 Chenab -> track.Ravi.shipp2018.ecsv\n",
      "13 Elqui -> track.Chenab.shipp2018.ecsv\n",
      "14 Aliqa_Uma -> track.Elqui.shipp2018.ecsv\n",
      "15 Turbio -> track.Aliqa_Uma.shipp2018.ecsv\n",
      "16 Willka_Yaku -> track.Turbio.shipp2018.ecsv\n",
      "17 Turranburra -> track.Willka_Yaku.shipp2018.ecsv\n",
      "18 Wambelong -> track.Turranburra.shipp2018.ecsv\n",
      "19 Palca -> track.Wambelong.shipp2018.ecsv\n",
      "20 Jet -> track.Palca.shipp2018.ecsv\n",
      "21 Gaia-1 -> track.Jet.jethwa2017.ecsv\n",
      "22 Gaia-2 -> track.Gaia-1.malhan2018.ecsv\n",
      "23 Gaia-3 -> track.Gaia-2.malhan2018.ecsv\n",
      "24 Gaia-4 -> track.Gaia-3.malhan2018.ecsv\n",
      "25 Gaia-5 -> track.Gaia-4.malhan2018.ecsv\n",
      "26 Pal13 -> track.Gaia-5.malhan2018.ecsv\n"
     ]
    }
   ],
   "source": [
    "gcstep=0.01\n",
    "coo_frame=dict(equ=\"icrs\",gal=\"galactic\")\n",
    "\n",
    "for i in range(tpair[\"lono\"].size)[:]:\n",
    "    \n",
    "    #Generate track from end-points\n",
    "    azs,lats,azcenter,latcenter=gcutils.get_gc_for_pair(tpair[\"lono\"][i],tpair[\"lato\"][i],tpair[\"lonf\"][i],tpair[\"latf\"][i],degree=True,step=gcstep,dlat=0.)\n",
    "\n",
    "    #Validate\n",
    "    mask=(azs>=tpair[\"lono\"][i]) & (azs<=tpair[\"lonf\"][i])\n",
    "    azs=azs[mask]\n",
    "    lats=lats[mask]\n",
    "    \n",
    "    #If a detailed track is lacking and only Ro,Rf are reported, nothing better to do than linear interpolation\n",
    "    Fd = scipy.interpolate.interp1d([tpair[\"lono\"][i],tpair[\"lonf\"][i]],[tpair[\"Ro\"][i],tpair[\"Rf\"][i]],)\n",
    "    distance = Fd(azs)\n",
    "    \n",
    "    #Astropy coords\n",
    "    coo = ac.SkyCoord( azs*u.deg, lats*u.deg, frame=coo_frame[tpair[\"frame\"][i]], distance = distance*u.kpc )\n",
    "    width = tpair[\"Width\"][i]*np.ones_like(azs)\n",
    "    \n",
    "    #Track object\n",
    "    track=pd.DataFrame(dict(l=coo.galactic.l.deg, b=coo.galactic.b.deg, distance=coo.distance.kpc, ))\n",
    "    \n",
    "    #Print track\n",
    "    print(\"{N} {Name} -> {ofn}\".format(N=i, Name=tpair[\"Name\"][i], ofn=ofilen))\n",
    "    ofilen=\"track.{Name}.{Ref}.ecsv\".format(Name=tpair[\"Name\"][i], Ref=tpair[\"Reference\"][i].lower() )\n",
    "    #as magic ECSV\n",
    "    t = astropy.table.QTable([coo.icrs,width], names=['sc', 'width'])\n",
    "    astropy.io.ascii.write(t, format='ecsv', output=ofilen, overwrite='True')   \n",
    "    "
   ]
  },
  {
   "cell_type": "code",
   "execution_count": 6,
   "metadata": {},
   "outputs": [],
   "source": [
    "track = [[-15.565,   9.145],\n",
    "             [-14.881,   9.873],\n",
    "             [-14.537,  10.957],\n",
    "             [-13.731,  11.824],\n",
    "             [-13.373,  12.646],\n",
    "             [-12.198,  14.068],\n",
    "             [-11.59 ,  15.172],\n",
    "             [-10.808,  16.029],\n",
    "             [-10.176,  16.871],\n",
    "             [ -9.805,  17.428]]\n",
    "track = np.array(track)\n",
    "t = ac.SkyCoord(ra=track[:,0]*u.deg,dec=track[:,1]*u.deg,frame='icrs')\n"
   ]
  },
  {
   "cell_type": "code",
   "execution_count": 7,
   "metadata": {},
   "outputs": [
    {
     "data": {
      "text/plain": [
       "[<matplotlib.lines.Line2D at 0x7ff0ffd33fd0>]"
      ]
     },
     "execution_count": 7,
     "metadata": {},
     "output_type": "execute_result"
    },
    {
     "data": {
      "image/png": "[encoded data removed]",
      "text/plain": [
       "<Figure size 432x288 with 1 Axes>"
      ]
     },
     "metadata": {
      "needs_background": "light"
     },
     "output_type": "display_data"
    }
   ],
   "source": [
    "plt.plot(coo.galactic.l.deg,coo.galactic.b.deg,'.')\n",
    "plt.plot(coo.galactic.l.deg,coo.galactic.b.deg,'x',ms=1)"
   ]
  },
  {
   "cell_type": "code",
   "execution_count": null,
   "metadata": {},
   "outputs": [],
   "source": [
    "plt.plot(coo.ra.deg,coo.dec.deg,'.')\n",
    "plt.plot(coo.ra.deg,coo.dec.deg,'x')"
   ]
  },
  {
   "cell_type": "code",
   "execution_count": 37,
   "metadata": {},
   "outputs": [
    {
     "data": {
      "text/plain": [
       "<SkyCoord (ICRS): (ra, dec) in deg\n",
       "    [(353.7, -59.7), (  3.2, -59.4)]>"
      ]
     },
     "execution_count": 37,
     "metadata": {},
     "output_type": "execute_result"
    }
   ],
   "source": [
    "c = ac.SkyCoord(ra=[-6.3,3.2],dec=[-59.7,-59.4],frame='icrs',unit=u.deg)\n",
    "c.icrs"
   ]
  },
  {
   "cell_type": "code",
   "execution_count": null,
   "metadata": {},
   "outputs": [],
   "source": []
  }
 ],
 "metadata": {
  "kernelspec": {
   "display_name": "Python 3",
   "language": "python",
   "name": "python3"
  },
  "language_info": {
   "codemirror_mode": {
    "name": "ipython",
    "version": 3
   },
   "file_extension": ".py",
   "mimetype": "text/x-python",
   "name": "python",
   "nbconvert_exporter": "python",
   "pygments_lexer": "ipython3",
   "version": "3.7.1"
  }
 },
 "nbformat": 4,
 "nbformat_minor": 4
}
