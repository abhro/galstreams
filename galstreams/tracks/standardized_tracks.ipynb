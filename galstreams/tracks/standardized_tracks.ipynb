{
 "cells": [
  {
   "cell_type": "code",
   "execution_count": 5,
   "metadata": {},
   "outputs": [
    {
     "name": "stdout",
     "output_type": "stream",
     "text": [
      "Populating the interactive namespace from numpy and matplotlib\n"
     ]
    }
   ],
   "source": [
    "import numpy as np\n",
    "import astropy\n",
    "import astropy.coordinates as ac\n",
    "import astropy.units as u\n",
    "import astropy.io\n",
    "import astropy.table\n",
    "import scipy\n",
    "import pandas as pd\n",
    "import galstreams\n",
    "import gcutils\n",
    "%pylab inline"
   ]
  },
  {
   "cell_type": "code",
   "execution_count": null,
   "metadata": {},
   "outputs": [],
   "source": [
    "lono,lato,lonf,latf,ro,rf,width=scipy.genfromtxt(lib_end_points_filen,usecols=(3-1,4-1,5-1,6-1,8-1,9-1,10-1),unpack=True)\n",
    "name,sname,cootype=scipy.genfromtxt(lib_end_points_filen,usecols=(1-1,2-1,7-1),unpack=True,dtype=str)\n",
    "azs,lats,azcenter,latcenter=gcutils.get_gc_for_pair(lono[i],lato[i],lonf[i],latf[i],degree=True,step=gcstep,dlat=width[i])\n"
   ]
  },
  {
   "cell_type": "markdown",
   "metadata": {},
   "source": [
    "Tracks init by end points\n",
    "=========================="
   ]
  },
  {
   "cell_type": "code",
   "execution_count": 58,
   "metadata": {},
   "outputs": [
    {
     "data": {
      "text/html": [
       "<i>Table length=27</i>\n",
       "<table id=\"table140592483569056\" class=\"table-striped table-bordered table-condensed\">\n",
       "<thead><tr><th>Name</th><th>ShortName</th><th>lono</th><th>lato</th><th>lonf</th><th>latf</th><th>frame</th><th>Ro</th><th>Rf</th><th>Width</th><th>Reference</th></tr></thead>\n",
       "<thead><tr><th>str11</th><th>str5</th><th>float64</th><th>float64</th><th>float64</th><th>float64</th><th>str3</th><th>float64</th><th>float64</th><th>float64</th><th>str26</th></tr></thead>\n",
       "<tr><td>Phoenix</td><td>Phe</td><td>20.0</td><td>-57.0</td><td>27.0</td><td>-45.0</td><td>equ</td><td>17.5</td><td>17.5</td><td>0.18</td><td>Balbinot2016</td></tr>\n",
       "<tr><td>Acheron</td><td>Ach</td><td>230.0</td><td>-2.0</td><td>259.0</td><td>21.0</td><td>equ</td><td>3.5</td><td>3.8</td><td>0.9</td><td>Grillmair2009</td></tr>\n",
       "<tr><td>Cocytos</td><td>Coc</td><td>186.0</td><td>-3.0</td><td>259.0</td><td>20.0</td><td>equ</td><td>11.0</td><td>11.0</td><td>0.7</td><td>Grillmair2009</td></tr>\n",
       "<tr><td>Lethe</td><td>Let</td><td>171.0</td><td>18.0</td><td>258.0</td><td>20.0</td><td>equ</td><td>13.0</td><td>13.0</td><td>0.4</td><td>Grillmair2009</td></tr>\n",
       "<tr><td>Styx</td><td>Sty</td><td>194.0</td><td>20.0</td><td>259.0</td><td>21.0</td><td>equ</td><td>45.0</td><td>45.0</td><td>3.3</td><td>Grillmair2009</td></tr>\n",
       "<tr><td>ACS</td><td>ACS</td><td>126.4</td><td>-0.7</td><td>133.9</td><td>64.2</td><td>equ</td><td>8.9</td><td>8.9</td><td>5.0</td><td>Grillmair2006</td></tr>\n",
       "<tr><td>Pal15</td><td>Pal15</td><td>254.8</td><td>-0.12</td><td>255.3</td><td>-1.47</td><td>equ</td><td>38.4</td><td>38.4</td><td>0.0</td><td>Myeong2017</td></tr>\n",
       "<tr><td>Eridanus</td><td>Eri</td><td>65.98</td><td>-21.42</td><td>66.4</td><td>-20.96</td><td>equ</td><td>95.0</td><td>95.0</td><td>0.0</td><td>Myeong2017</td></tr>\n",
       "<tr><td>TucanaIII</td><td>Tuc3</td><td>-6.3</td><td>-59.7</td><td>3.2</td><td>-59.4</td><td>equ</td><td>23.0</td><td>27.0</td><td>0.18</td><td>Shipp2018,DrlicaWagner2015</td></tr>\n",
       "<tr><td>Indus</td><td>Ind</td><td>-36.3</td><td>-50.7</td><td>-8.0</td><td>-64.8</td><td>equ</td><td>16.6</td><td>16.6</td><td>0.83</td><td>Shipp2018</td></tr>\n",
       "<tr><td>...</td><td>...</td><td>...</td><td>...</td><td>...</td><td>...</td><td>...</td><td>...</td><td>...</td><td>...</td><td>...</td></tr>\n",
       "<tr><td>Turranburra</td><td>Tur</td><td>59.3</td><td>-18.0</td><td>75.2</td><td>-26.4</td><td>equ</td><td>27.5</td><td>27.5</td><td>0.6</td><td>Shipp2018</td></tr>\n",
       "<tr><td>Wambelong</td><td>Wam</td><td>90.5</td><td>-45.6</td><td>79.3</td><td>-34.3</td><td>equ</td><td>15.1</td><td>15.1</td><td>0.4</td><td>Shipp2018</td></tr>\n",
       "<tr><td>Palca</td><td>Pca</td><td>30.3</td><td>-53.7</td><td>16.2</td><td>2.4</td><td>equ</td><td>36.3</td><td>36.3</td><td>0.0</td><td>Shipp2018</td></tr>\n",
       "<tr><td>Jet</td><td>Jet</td><td>133.75</td><td>-27.7</td><td>142.0</td><td>-17.82</td><td>equ</td><td>28.6</td><td>28.6</td><td>0.18</td><td>Jethwa2017</td></tr>\n",
       "<tr><td>Gaia-1</td><td>Gaia1</td><td>184.0</td><td>-18.0</td><td>197.0</td><td>-2.0</td><td>equ</td><td>5.0</td><td>6.0</td><td>0.5</td><td>Malhan2018</td></tr>\n",
       "<tr><td>Gaia-2</td><td>Gaia2</td><td>6.0</td><td>-22.0</td><td>15.0</td><td>-27.0</td><td>equ</td><td>10.0</td><td>13.0</td><td>0.0</td><td>Malhan2018</td></tr>\n",
       "<tr><td>Gaia-3</td><td>Gaia3</td><td>171.0</td><td>-15.0</td><td>179.0</td><td>-32.0</td><td>equ</td><td>9.0</td><td>14.0</td><td>0.0</td><td>Malhan2018</td></tr>\n",
       "<tr><td>Gaia-4</td><td>Gaia4</td><td>163.0</td><td>-11.0</td><td>167.0</td><td>-3.0</td><td>equ</td><td>10.7</td><td>11.5</td><td>0.0</td><td>Malhan2018</td></tr>\n",
       "<tr><td>Gaia-5</td><td>Gaia5</td><td>137.0</td><td>23.0</td><td>154.0</td><td>42.0</td><td>equ</td><td>18.5</td><td>20.5</td><td>0.0</td><td>Malhan2018</td></tr>\n",
       "<tr><td>Pal13</td><td>Pal13</td><td>-15.7</td><td>8.9</td><td>-9.8</td><td>18.2</td><td>equ</td><td>23.6</td><td>23.6</td><td>0.25</td><td>Shipp2020</td></tr>\n",
       "</table>"
      ],
      "text/plain": [
       "<Table length=27>\n",
       "    Name    ShortName   lono  ...    Rf    Width          Reference         \n",
       "   str11       str5   float64 ... float64 float64           str26           \n",
       "----------- --------- ------- ... ------- ------- --------------------------\n",
       "    Phoenix       Phe    20.0 ...    17.5    0.18               Balbinot2016\n",
       "    Acheron       Ach   230.0 ...     3.8     0.9              Grillmair2009\n",
       "    Cocytos       Coc   186.0 ...    11.0     0.7              Grillmair2009\n",
       "      Lethe       Let   171.0 ...    13.0     0.4              Grillmair2009\n",
       "       Styx       Sty   194.0 ...    45.0     3.3              Grillmair2009\n",
       "        ACS       ACS   126.4 ...     8.9     5.0              Grillmair2006\n",
       "      Pal15     Pal15   254.8 ...    38.4     0.0                 Myeong2017\n",
       "   Eridanus       Eri   65.98 ...    95.0     0.0                 Myeong2017\n",
       "  TucanaIII      Tuc3    -6.3 ...    27.0    0.18 Shipp2018,DrlicaWagner2015\n",
       "      Indus       Ind   -36.3 ...    16.6    0.83                  Shipp2018\n",
       "        ...       ...     ... ...     ...     ...                        ...\n",
       "Turranburra       Tur    59.3 ...    27.5     0.6                  Shipp2018\n",
       "  Wambelong       Wam    90.5 ...    15.1     0.4                  Shipp2018\n",
       "      Palca       Pca    30.3 ...    36.3     0.0                  Shipp2018\n",
       "        Jet       Jet  133.75 ...    28.6    0.18                 Jethwa2017\n",
       "     Gaia-1     Gaia1   184.0 ...     6.0     0.5                 Malhan2018\n",
       "     Gaia-2     Gaia2     6.0 ...    13.0     0.0                 Malhan2018\n",
       "     Gaia-3     Gaia3   171.0 ...    14.0     0.0                 Malhan2018\n",
       "     Gaia-4     Gaia4   163.0 ...    11.5     0.0                 Malhan2018\n",
       "     Gaia-5     Gaia5   137.0 ...    20.5     0.0                 Malhan2018\n",
       "      Pal13     Pal13   -15.7 ...    23.6    0.25                  Shipp2020"
      ]
     },
     "execution_count": 58,
     "metadata": {},
     "output_type": "execute_result"
    }
   ],
   "source": [
    "tpair = astropy.io.ascii.read(\"lib_by_pair.dat\",header_start=4)\n",
    "#tpair.replace_column('Ro', tpair[\"Ro\"].astype(float))\n",
    "tpair"
   ]
  },
  {
   "cell_type": "code",
   "execution_count": 149,
   "metadata": {},
   "outputs": [
    {
     "name": "stdout",
     "output_type": "stream",
     "text": [
      "0 Phoenix -> track.ep.Phoenix.balbinot2016.ecsv\n",
      "1 Acheron -> track.ep.Acheron.grillmair2009.ecsv\n",
      "2 Cocytos -> track.ep.Cocytos.grillmair2009.ecsv\n",
      "3 Lethe -> track.ep.Lethe.grillmair2009.ecsv\n",
      "4 Styx -> track.ep.Styx.grillmair2009.ecsv\n",
      "5 ACS -> track.ep.ACS.grillmair2006.ecsv\n",
      "6 Pal15 -> track.ep.Pal15.myeong2017.ecsv\n",
      "7 Eridanus -> track.ep.Eridanus.myeong2017.ecsv\n",
      "8 TucanaIII -> track.ep.TucanaIII.shipp2018,drlicawagner2015.ecsv\n",
      "9 Indus -> track.ep.Indus.shipp2018.ecsv\n",
      "10 Jhelum -> track.ep.Jhelum.shipp2018.ecsv\n",
      "11 Ravi -> track.ep.Ravi.shipp2018.ecsv\n",
      "12 Chenab -> track.ep.Chenab.shipp2018.ecsv\n",
      "13 Elqui -> track.ep.Elqui.shipp2018.ecsv\n",
      "14 Aliqa_Uma -> track.ep.Aliqa_Uma.shipp2018.ecsv\n",
      "15 Turbio -> track.ep.Turbio.shipp2018.ecsv\n",
      "16 Willka_Yaku -> track.ep.Willka_Yaku.shipp2018.ecsv\n",
      "17 Turranburra -> track.ep.Turranburra.shipp2018.ecsv\n",
      "18 Wambelong -> track.ep.Wambelong.shipp2018.ecsv\n",
      "19 Palca -> track.ep.Palca.shipp2018.ecsv\n",
      "20 Jet -> track.ep.Jet.jethwa2017.ecsv\n",
      "21 Gaia-1 -> track.ep.Gaia-1.malhan2018.ecsv\n",
      "22 Gaia-2 -> track.ep.Gaia-2.malhan2018.ecsv\n",
      "23 Gaia-3 -> track.ep.Gaia-3.malhan2018.ecsv\n",
      "24 Gaia-4 -> track.ep.Gaia-4.malhan2018.ecsv\n",
      "25 Gaia-5 -> track.ep.Gaia-5.malhan2018.ecsv\n",
      "26 Pal13 -> track.ep.Pal13.shipp2020.ecsv\n"
     ]
    }
   ],
   "source": [
    "gcstep=0.01\n",
    "coo_frame=dict(equ=\"icrs\",gal=\"galactic\",Galactocentric=\"GC\")\n",
    "\n",
    "for i in range(tpair[\"lono\"].size)[:]:\n",
    "    \n",
    "    #Generate track from end-points\n",
    "    azs,lats,azcenter,latcenter=gcutils.get_gc_for_pair(tpair[\"lono\"][i],tpair[\"lato\"][i],tpair[\"lonf\"][i],tpair[\"latf\"][i],\n",
    "                                                        degree=True,step=gcstep,dlat=0.)\n",
    "    #Validate\n",
    "    azs=np.round(azs,decimals=2)\n",
    "\n",
    "    #If a detailed track is lacking and only Ro,Rf are reported, nothing better to do than linear interpolation\n",
    "    Fd = scipy.interpolate.interp1d([tpair[\"lono\"][i],tpair[\"lonf\"][i]],[tpair[\"Ro\"][i],tpair[\"Rf\"][i]],bounds_error=False)\n",
    "    distance = Fd(azs)\n",
    "    \n",
    "    #Astropy coords\n",
    "    coo = ac.SkyCoord( azs*u.deg, lats*u.deg, frame=coo_frame[tpair[\"frame\"][i]], distance = distance*u.kpc )\n",
    "    width = tpair[\"Width\"][i]*np.ones_like(azs)*u.kpc \n",
    "    \n",
    "    #Track object\n",
    "    track=pd.DataFrame(dict(l=coo.galactic.l.deg, b=coo.galactic.b.deg, distance=coo.distance.kpc, ))\n",
    "    \n",
    "    #Print track\n",
    "    ofilen=\"track.ep.{Name}.{Ref}.ecsv\".format(Name=tpair[\"Name\"][i], Ref=tpair[\"Reference\"][i].lower() )\n",
    "    print(\"{N} {Name} -> {ofn}\".format(N=i, Name=tpair[\"Name\"][i], ofn=ofilen))\n",
    "    #as magic ECSV\n",
    "    t = astropy.table.QTable([coo.galactic,width], names=['sc', 'width'])\n",
    "    astropy.io.ascii.write(t, format='ecsv', output=ofilen, overwrite='True')   \n",
    "    "
   ]
  },
  {
   "cell_type": "code",
   "execution_count": 39,
   "metadata": {},
   "outputs": [
    {
     "data": {
      "text/plain": [
       "[<matplotlib.lines.Line2D at 0x7fde3c98d240>]"
      ]
     },
     "execution_count": 39,
     "metadata": {},
     "output_type": "execute_result"
    },
    {
     "data": {
      "image/png": "[encoded data removed]",
      "text/plain": [
       "<Figure size 432x288 with 1 Axes>"
      ]
     },
     "metadata": {
      "needs_background": "light"
     },
     "output_type": "display_data"
    }
   ],
   "source": [
    "#Read-in validation\n",
    "ofilen=\"track.Turranburra.shipp2018.ecsv\"\n",
    "rr=astropy.io.ascii.read(ofilen, format='ecsv')   \n",
    "#rr[\"sc\"].ra\n",
    "plt.plot(mwsts[\"Turranburra\"].ra,mwsts[\"Turranburra\"].dec,'.')\n",
    "plt.plot(rr[\"sc\"].ra.deg,rr[\"sc\"].dec.deg,'.')"
   ]
  },
  {
   "cell_type": "markdown",
   "metadata": {},
   "source": [
    "Tracks init by pole\n",
    "===================="
   ]
  },
  {
   "cell_type": "code",
   "execution_count": 93,
   "metadata": {},
   "outputs": [
    {
     "data": {
      "text/html": [
       "<i>Table length=10</i>\n",
       "<table id=\"table140592483571528\" class=\"table-striped table-bordered table-condensed\">\n",
       "<thead><tr><th>Name</th><th>pole_lon</th><th>pole_lat</th><th>pole_frame</th><th>center_lon</th><th>center_lat</th><th>cent_frame</th><th>dlon_deg</th><th>dlat</th><th>Ro</th><th>Rf</th><th>Reference</th></tr></thead>\n",
       "<thead><tr><th>str9</th><th>float64</th><th>float64</th><th>str3</th><th>float64</th><th>float64</th><th>str3</th><th>float64</th><th>float64</th><th>float64</th><th>float64</th><th>str13</th></tr></thead>\n",
       "<tr><td>PS1-A</td><td>300.856</td><td>20.732</td><td>equ</td><td>160.17</td><td>-62.27</td><td>gal</td><td>5.0</td><td>0.45</td><td>7.9</td><td>7.9</td><td>Bernard2016</td></tr>\n",
       "<tr><td>PS1-B</td><td>65.603</td><td>32.567</td><td>equ</td><td>248.41</td><td>32.3</td><td>gal</td><td>10.0</td><td>0.45</td><td>14.5</td><td>14.5</td><td>Bernard2016</td></tr>\n",
       "<tr><td>PS1-C</td><td>232.227</td><td>33.838</td><td>equ</td><td>75.12</td><td>-32.6</td><td>gal</td><td>8.0</td><td>0.333</td><td>17.4</td><td>17.4</td><td>Bernard2016</td></tr>\n",
       "<tr><td>PS1-D</td><td>49.64</td><td>2.467</td><td>equ</td><td>231.06</td><td>32.83</td><td>gal</td><td>45.0</td><td>0.867</td><td>22.9</td><td>22.9</td><td>Bernard2016</td></tr>\n",
       "<tr><td>PS1-E</td><td>42.526</td><td>23.987</td><td>equ</td><td>144.17</td><td>58.4</td><td>gal</td><td>25.0</td><td>0.617</td><td>12.6</td><td>12.6</td><td>Bernard2016</td></tr>\n",
       "<tr><td>ATLAS</td><td>77.16</td><td>46.92</td><td>equ</td><td>25.0</td><td>-30.0</td><td>equ</td><td>12.0</td><td>0.25</td><td>20.0</td><td>20.0</td><td>Koposov2014</td></tr>\n",
       "<tr><td>Ophiuchus</td><td>184.32</td><td>77.25</td><td>equ</td><td>4.53</td><td>31.69</td><td>gal</td><td>2.5</td><td>0.12</td><td>9.5</td><td>9.5</td><td>Bernard2014</td></tr>\n",
       "<tr><td>Sangarius</td><td>178.0</td><td>-52.0</td><td>gal</td><td>149.01</td><td>7.847</td><td>equ</td><td>59.0</td><td>0.44</td><td>21.0</td><td>21.0</td><td>Grillmair2017</td></tr>\n",
       "<tr><td>Scamander</td><td>196.0</td><td>-41.0</td><td>gal</td><td>153.52</td><td>12.46</td><td>equ</td><td>66.0</td><td>0.22</td><td>21.0</td><td>21.0</td><td>Grillmair2017</td></tr>\n",
       "<tr><td>Corvus</td><td>104.5</td><td>32.46</td><td>GC</td><td>288.98</td><td>46.21</td><td>gal</td><td>0.0</td><td>0.0</td><td>11.0</td><td>11.0</td><td>Mateu2018</td></tr>\n",
       "</table>"
      ],
      "text/plain": [
       "<Table length=10>\n",
       "   Name   pole_lon pole_lat pole_frame ...   dlat     Ro      Rf     Reference  \n",
       "   str9   float64  float64     str3    ... float64 float64 float64     str13    \n",
       "--------- -------- -------- ---------- ... ------- ------- ------- -------------\n",
       "    PS1-A  300.856   20.732        equ ...    0.45     7.9     7.9   Bernard2016\n",
       "    PS1-B   65.603   32.567        equ ...    0.45    14.5    14.5   Bernard2016\n",
       "    PS1-C  232.227   33.838        equ ...   0.333    17.4    17.4   Bernard2016\n",
       "    PS1-D    49.64    2.467        equ ...   0.867    22.9    22.9   Bernard2016\n",
       "    PS1-E   42.526   23.987        equ ...   0.617    12.6    12.6   Bernard2016\n",
       "    ATLAS    77.16    46.92        equ ...    0.25    20.0    20.0   Koposov2014\n",
       "Ophiuchus   184.32    77.25        equ ...    0.12     9.5     9.5   Bernard2014\n",
       "Sangarius    178.0    -52.0        gal ...    0.44    21.0    21.0 Grillmair2017\n",
       "Scamander    196.0    -41.0        gal ...    0.22    21.0    21.0 Grillmair2017\n",
       "   Corvus    104.5    32.46         GC ...     0.0    11.0    11.0     Mateu2018"
      ]
     },
     "execution_count": 93,
     "metadata": {},
     "output_type": "execute_result"
    }
   ],
   "source": [
    "tpoles = astropy.io.ascii.read(\"lib_by_pole.dat\",header_start=2)\n",
    "tpoles"
   ]
  },
  {
   "cell_type": "code",
   "execution_count": 153,
   "metadata": {},
   "outputs": [
    {
     "name": "stdout",
     "output_type": "stream",
     "text": [
      "PS1-A 500\n",
      "0 PS1-A -> track.po.PS1-A.bernard2016.ecsv\n",
      "PS1-B 1000\n",
      "1 PS1-B -> track.po.PS1-B.bernard2016.ecsv\n",
      "PS1-C 800\n",
      "2 PS1-C -> track.po.PS1-C.bernard2016.ecsv\n",
      "PS1-D 4500\n",
      "3 PS1-D -> track.po.PS1-D.bernard2016.ecsv\n",
      "PS1-E 2500\n",
      "4 PS1-E -> track.po.PS1-E.bernard2016.ecsv\n",
      "ATLAS 1200\n",
      "5 ATLAS -> track.po.ATLAS.koposov2014.ecsv\n",
      "Ophiuchus 250\n",
      "6 Ophiuchus -> track.po.Ophiuchus.bernard2014.ecsv\n",
      "Sangarius 5023\n",
      "7 Sangarius -> track.po.Sangarius.grillmair2017.ecsv\n",
      "Scamander 6525\n",
      "8 Scamander -> track.po.Scamander.grillmair2017.ecsv\n",
      "Corvus 36000\n",
      "9 Corvus -> track.po.Corvus.mateu2018.ecsv\n"
     ]
    }
   ],
   "source": [
    "gcstep=0.01\n",
    "\n",
    "tp=tpoles\n",
    "for i in range(tp[\"Name\"].size)[:]:\n",
    "    \n",
    "    #Store pole and center coords, each in its own frame. \n",
    "    if \"GC\" not in tp[\"pole_frame\"][i] and \"GC\" not in tp[\"cent_frame\"][i]:\n",
    "        pole_sc = ac.SkyCoord( tp[\"pole_lon\"][i], tp[\"pole_lat\"][i], unit=u.deg, frame=coo_frame[tp[\"pole_frame\"][i]] )\n",
    "        cent_sc = ac.SkyCoord( tp[\"center_lon\"][i], tp[\"center_lat\"][i], unit=u.deg, frame=coo_frame[tp[\"cent_frame\"][i]] )\n",
    "                             \n",
    "        #Generate track from pole. Starting here, do everything in galactic\n",
    "        azs,lats=gcutils.get_gc_for_pole(pole_sc.galactic.l.deg,pole_sc.galactic.b.deg,degree=True,\n",
    "                                         center=[cent_sc.galactic.l.deg,cent_sc.galactic.b.deg],\n",
    "                                         dlon=tp[\"dlon_deg\"][i],dlat=0.,step=gcstep)\n",
    "                                                                       \n",
    "        distance = np.ones_like(azs)*tp[\"Ro\"][i]                                                            \n",
    "        coo = ac.SkyCoord( azs*u.deg, lats*u.deg, frame=\"galactic\", distance = distance*u.kpc )\n",
    "    else:\n",
    "        if \"GC\" not in tp[\"cent_frame\"][i]:\n",
    "                cent_sc=ac.SkyCoord(tp[\"center_lon\"][i]*u.deg, tp[\"center_lat\"][i]*u.deg, frame=coo_frame[tp[\"cent_frame\"][i]], \n",
    "                                    distance=tp[\"Ro\"][i]*u.kpc)\n",
    "                cent_in_GC=cent_sc.transform_to(ac.Galactocentric)                 \n",
    "        azs,lats=gcutils.get_gc_for_pole( tp[\"pole_lon\"][i],tp[\"pole_lat\"][i],degree=True,\n",
    "                                         center=[cent_in_GC.spherical.lon.deg,cent_in_GC.spherical.lat.deg],\n",
    "                                         dlon=tp[\"dlon_deg\"][i],dlat=0.,step=gcstep)\n",
    "                                          \n",
    "        distance=tp[\"Ro\"][i]*np.ones_like(azs)                                                                     \n",
    "        gc = ac.SkyCoord(lon=azs*u.deg, lat=lats*u.deg, distance=distance*u.kpc, frame=ac.Galactocentric,  representation_type='spherical' )\n",
    "        #Do it this way, instead of gc.transform_to(\"galactic\"), because extra info in SkyCoord obj gives a RepresentationError when printing ecsv table\n",
    "        coo = ac.SkyCoord(l=gc.galactic.l, b=gc.galactic.b, distance=gc.galactic.distance, frame='galactic')                     \n",
    "\n",
    "        \n",
    "    width = tp[\"dlat\"][i]*np.ones(np.size(coo.l))*u.kpc \n",
    "    \n",
    "    #Track object\n",
    "    track=pd.DataFrame(dict(l=coo.galactic.l.deg, b=coo.galactic.b.deg, distance=coo.distance.kpc ))\n",
    "    \n",
    "    #Print track\n",
    "    print(tp[\"Name\"][i],np.size(azs))\n",
    "    ofilen=\"track.po.{Name}.{Ref}.ecsv\".format(Name=tp[\"Name\"][i], Ref=tp[\"Reference\"][i].lower() )\n",
    "    print(\"{N} {Name} -> {ofn}\".format(N=i, Name=tp[\"Name\"][i], ofn=ofilen))\n",
    "    #as magic ECSV\n",
    "    t = astropy.table.QTable([coo, width], names=['sc', 'width'])\n",
    "    astropy.io.ascii.write(t, format='ecsv', output=ofilen, overwrite='True')   \n",
    "    #print(\"printed\")"
   ]
  },
  {
   "cell_type": "code",
   "execution_count": 141,
   "metadata": {},
   "outputs": [
    {
     "data": {
      "text/plain": [
       "array([-46.14275137, -46.1483367 , -46.15392221, ..., -46.12599641,\n",
       "       -46.13158122, -46.13716621])"
      ]
     },
     "execution_count": 141,
     "metadata": {},
     "output_type": "execute_result"
    }
   ],
   "source": [
    "t[\"sc\"].b.deg"
   ]
  },
  {
   "cell_type": "code",
   "execution_count": 109,
   "metadata": {},
   "outputs": [],
   "source": [
    "cc=ac.SkyCoord(60.*u.deg, 9.145*u.deg, distance=1*u.kpc, frame=ac.Galactocentric, representation_type='spherical')"
   ]
  },
  {
   "cell_type": "code",
   "execution_count": 112,
   "metadata": {},
   "outputs": [
    {
     "data": {
      "text/latex": [
       "$60^\\circ00{}^\\prime00{}^{\\prime\\prime}$"
      ],
      "text/plain": [
       "<Longitude 60. deg>"
      ]
     },
     "execution_count": 112,
     "metadata": {},
     "output_type": "execute_result"
    }
   ],
   "source": []
  },
  {
   "cell_type": "code",
   "execution_count": 110,
   "metadata": {},
   "outputs": [
    {
     "data": {
      "text/latex": [
       "$0.49364464 \\; \\mathrm{kpc}$"
      ],
      "text/plain": [
       "<Quantity 0.49364464 kpc>"
      ]
     },
     "execution_count": 110,
     "metadata": {},
     "output_type": "execute_result"
    }
   ],
   "source": [
    "cc.cartesian.x, np.cos(cc.spherical.)"
   ]
  },
  {
   "cell_type": "markdown",
   "metadata": {},
   "source": [
    "Tests\n",
    "======"
   ]
  },
  {
   "cell_type": "code",
   "execution_count": 6,
   "metadata": {},
   "outputs": [],
   "source": [
    "track = [[-15.565,   9.145],\n",
    "             [-14.881,   9.873],\n",
    "             [-14.537,  10.957],\n",
    "             [-13.731,  11.824],\n",
    "             [-13.373,  12.646],\n",
    "             [-12.198,  14.068],\n",
    "             [-11.59 ,  15.172],\n",
    "             [-10.808,  16.029],\n",
    "             [-10.176,  16.871],\n",
    "             [ -9.805,  17.428]]\n",
    "track = np.array(track)\n",
    "t = ac.SkyCoord(ra=track[:,0]*u.deg,dec=track[:,1]*u.deg,frame='icrs')\n"
   ]
  },
  {
   "cell_type": "code",
   "execution_count": 16,
   "metadata": {},
   "outputs": [],
   "source": [
    "azs,lats,azcenter,latcenter=gcutils.get_gc_for_pair(-6.3, -59.7,    3.2,  -59.4,degree=True,step=gcstep,dlat=0.)\n"
   ]
  },
  {
   "cell_type": "code",
   "execution_count": 17,
   "metadata": {},
   "outputs": [
    {
     "name": "stderr",
     "output_type": "stream",
     "text": [
      "/Users/cmateu/miniconda3/lib/python3.7/site-packages/astropy/units/quantity.py:477: RuntimeWarning: invalid value encountered in true_divide\n",
      "  result = super().__array_ufunc__(function, method, *arrays, **kwargs)\n"
     ]
    }
   ],
   "source": [
    "mwsts=galstreams.MWStreams(verbose=False)"
   ]
  },
  {
   "cell_type": "code",
   "execution_count": 24,
   "metadata": {},
   "outputs": [
    {
     "data": {
      "text/plain": [
       "[<matplotlib.lines.Line2D at 0x7fde3d8401d0>]"
      ]
     },
     "execution_count": 24,
     "metadata": {},
     "output_type": "execute_result"
    },
    {
     "data": {
      "image/png": "[encoded data removed]",
      "text/plain": [
       "<Figure size 432x288 with 1 Axes>"
      ]
     },
     "metadata": {
      "needs_background": "light"
     },
     "output_type": "display_data"
    }
   ],
   "source": [
    "plt.plot(azs,lats,'.')\n",
    "ii=8\n",
    "plt.plot(360+tpair[\"lono\"][ii],tpair[\"lato\"][ii],'ro')\n",
    "plt.plot(tpair[\"lonf\"][ii],tpair[\"latf\"][ii],'ro')\n",
    "#plt.plot(coo.galactic.l.deg,coo.galactic.b.deg,'x',ms=1)"
   ]
  },
  {
   "cell_type": "code",
   "execution_count": null,
   "metadata": {},
   "outputs": [],
   "source": [
    "plt.plot(coo.ra.deg,coo.dec.deg,'.')\n",
    "plt.plot(coo.ra.deg,coo.dec.deg,'x')"
   ]
  },
  {
   "cell_type": "code",
   "execution_count": 70,
   "metadata": {},
   "outputs": [
    {
     "data": {
      "text/plain": [
       "<SkyCoord (ICRS): (ra, dec) in deg\n",
       "    [(353.7, -59.7), (  3.2, -59.4)]>"
      ]
     },
     "execution_count": 70,
     "metadata": {},
     "output_type": "execute_result"
    }
   ],
   "source": [
    "c = ac.SkyCoord(ra=[-6.3,3.2],dec=[-59.7,-59.4],frame='icrs',unit=u.deg)\n",
    "c.icrs"
   ]
  },
  {
   "cell_type": "code",
   "execution_count": 26,
   "metadata": {},
   "outputs": [
    {
     "data": {
      "text/plain": [
       "(354.33, 354.31)"
      ]
     },
     "execution_count": 26,
     "metadata": {},
     "output_type": "execute_result"
    }
   ],
   "source": [
    "azs[0],azs[-1],"
   ]
  },
  {
   "cell_type": "code",
   "execution_count": 37,
   "metadata": {},
   "outputs": [
    {
     "data": {
      "text/plain": [
       "[<matplotlib.lines.Line2D at 0x7fde3d1c9160>]"
      ]
     },
     "execution_count": 37,
     "metadata": {},
     "output_type": "execute_result"
    },
    {
     "data": {
      "image/png": "[encoded data removed]",
      "text/plain": [
       "<Figure size 432x288 with 1 Axes>"
      ]
     },
     "metadata": {
      "needs_background": "light"
     },
     "output_type": "display_data"
    }
   ],
   "source": [
    "ofilen=\"track.Turranburra.shipp2018.ecsv\"\n",
    "rr=astropy.io.ascii.read(ofilen, format='ecsv')   \n",
    "#rr[\"sc\"].ra\n",
    "plt.plot(mwsts[\"Turranburra\"].ra,mwsts[\"Turranburra\"].dec,'.')\n",
    "plt.plot(rr[\"sc\"].ra.deg,rr[\"sc\"].dec.deg,'.')"
   ]
  },
  {
   "cell_type": "code",
   "execution_count": 76,
   "metadata": {},
   "outputs": [
    {
     "data": {
      "text/plain": [
       "<SkyCoord (Galactocentric: galcen_coord=<ICRS Coordinate: (ra, dec) in deg\n",
       "    (266.4051, -28.936175)>, galcen_distance=8.3 kpc, galcen_v_sun=(11.1, 232.24, 7.25) km / s, z_sun=27.0 pc, roll=0.0 deg): (x, y, z) in kpc\n",
       "    (-3.94078643, -3.72526376, -8.1656827)>"
      ]
     },
     "execution_count": 76,
     "metadata": {},
     "output_type": "execute_result"
    }
   ],
   "source": [
    "c = ac.SkyCoord(ra=-6.3*u.deg,dec=-59.7*u.deg,distance=10*u.kpc,frame='icrs')\n"
   ]
  },
  {
   "cell_type": "code",
   "execution_count": 79,
   "metadata": {},
   "outputs": [
    {
     "name": "stderr",
     "output_type": "stream",
     "text": [
      "WARNING: AstropyDeprecationWarning: In v4.1 and later versions, the Galactocentric frame will adopt default parameters that may update with time. An updated default parameter set is already available through the astropy.coordinates.galactocentric_frame_defaults ScienceState object, as described in but the default is currently still set to the pre-v4.0 parameter defaults. The safest way to guard against changing default parameters in the future is to either (1) specify all Galactocentric frame attributes explicitly when using the frame, or (2) set the galactocentric_frame_defaults parameter set name explicitly. See http://docs.astropy.org/en/latest/coordinates/galactocentric.html for more information. [astropy.coordinates.builtin_frames.galactocentric]\n"
     ]
    },
    {
     "data": {
      "text/latex": [
       "$223^\\circ23{}^\\prime22.6163{}^{\\prime\\prime}$"
      ],
      "text/plain": [
       "<Longitude 223.38961565 deg>"
      ]
     },
     "execution_count": 79,
     "metadata": {},
     "output_type": "execute_result"
    }
   ],
   "source": [
    "c_gc=c.transform_to(ac.Galactocentric)\n",
    "c_gc.spherical.lon"
   ]
  },
  {
   "cell_type": "code",
   "execution_count": 116,
   "metadata": {},
   "outputs": [
    {
     "data": {
      "text/latex": [
       "$319^\\circ39{}^\\prime20.0213{}^{\\prime\\prime}$"
      ],
      "text/plain": [
       "<Longitude 319.65556147 deg>"
      ]
     },
     "execution_count": 116,
     "metadata": {},
     "output_type": "execute_result"
    }
   ],
   "source": [
    "c_gc.galactic.l"
   ]
  },
  {
   "cell_type": "code",
   "execution_count": null,
   "metadata": {},
   "outputs": [],
   "source": []
  }
 ],
 "metadata": {
  "kernelspec": {
   "display_name": "Python 3",
   "language": "python",
   "name": "python3"
  },
  "language_info": {
   "codemirror_mode": {
    "name": "ipython",
    "version": 3
   },
   "file_extension": ".py",
   "mimetype": "text/x-python",
   "name": "python",
   "nbconvert_exporter": "python",
   "pygments_lexer": "ipython3",
   "version": "3.7.1"
  }
 },
 "nbformat": 4,
 "nbformat_minor": 4
}
